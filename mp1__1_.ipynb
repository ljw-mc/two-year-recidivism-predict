{
  "nbformat": 4,
  "nbformat_minor": 0,
  "metadata": {
    "colab": {
      "provenance": []
    },
    "kernelspec": {
      "name": "python3",
      "display_name": "Python 3"
    },
    "language_info": {
      "name": "python"
    },
    "widgets": {
      "application/vnd.jupyter.widget-state+json": {
        "76134e3f37e443c4b59ae8366bff7c34": {
          "model_module": "@jupyter-widgets/controls",
          "model_name": "HBoxModel",
          "model_module_version": "1.5.0",
          "state": {
            "_dom_classes": [],
            "_model_module": "@jupyter-widgets/controls",
            "_model_module_version": "1.5.0",
            "_model_name": "HBoxModel",
            "_view_count": null,
            "_view_module": "@jupyter-widgets/controls",
            "_view_module_version": "1.5.0",
            "_view_name": "HBoxView",
            "box_style": "",
            "children": [
              "IPY_MODEL_4f9435e6648a4bcbbffb79c179833ad5",
              "IPY_MODEL_43573d54326e40c48eb3b2332994d643",
              "IPY_MODEL_306b55e0032749fbb7b7c6449a756f0d"
            ],
            "layout": "IPY_MODEL_cf4e6b11821e4241817c9abaad50831d"
          }
        },
        "4f9435e6648a4bcbbffb79c179833ad5": {
          "model_module": "@jupyter-widgets/controls",
          "model_name": "HTMLModel",
          "model_module_version": "1.5.0",
          "state": {
            "_dom_classes": [],
            "_model_module": "@jupyter-widgets/controls",
            "_model_module_version": "1.5.0",
            "_model_name": "HTMLModel",
            "_view_count": null,
            "_view_module": "@jupyter-widgets/controls",
            "_view_module_version": "1.5.0",
            "_view_name": "HTMLView",
            "description": "",
            "description_tooltip": null,
            "layout": "IPY_MODEL_a797b0307b7d4148bd58ea967faff89e",
            "placeholder": "​",
            "style": "IPY_MODEL_4fec86d235784314ad7a97151f2922e0",
            "value": "100%"
          }
        },
        "43573d54326e40c48eb3b2332994d643": {
          "model_module": "@jupyter-widgets/controls",
          "model_name": "FloatProgressModel",
          "model_module_version": "1.5.0",
          "state": {
            "_dom_classes": [],
            "_model_module": "@jupyter-widgets/controls",
            "_model_module_version": "1.5.0",
            "_model_name": "FloatProgressModel",
            "_view_count": null,
            "_view_module": "@jupyter-widgets/controls",
            "_view_module_version": "1.5.0",
            "_view_name": "ProgressView",
            "bar_style": "success",
            "description": "",
            "description_tooltip": null,
            "layout": "IPY_MODEL_a7764e5e100e4c6ab4599165bea97dc8",
            "max": 1000,
            "min": 0,
            "orientation": "horizontal",
            "style": "IPY_MODEL_a6ff8cd0c29e44ef9b3777aa9089543d",
            "value": 1000
          }
        },
        "306b55e0032749fbb7b7c6449a756f0d": {
          "model_module": "@jupyter-widgets/controls",
          "model_name": "HTMLModel",
          "model_module_version": "1.5.0",
          "state": {
            "_dom_classes": [],
            "_model_module": "@jupyter-widgets/controls",
            "_model_module_version": "1.5.0",
            "_model_name": "HTMLModel",
            "_view_count": null,
            "_view_module": "@jupyter-widgets/controls",
            "_view_module_version": "1.5.0",
            "_view_name": "HTMLView",
            "description": "",
            "description_tooltip": null,
            "layout": "IPY_MODEL_257f14295aaa46c4b8cbca27048b8fc1",
            "placeholder": "​",
            "style": "IPY_MODEL_b2dd11f3b4e545618d7c2f5de26c4bc3",
            "value": " 1000/1000 [00:05&lt;00:00, 157.38it/s]"
          }
        },
        "cf4e6b11821e4241817c9abaad50831d": {
          "model_module": "@jupyter-widgets/base",
          "model_name": "LayoutModel",
          "model_module_version": "1.2.0",
          "state": {
            "_model_module": "@jupyter-widgets/base",
            "_model_module_version": "1.2.0",
            "_model_name": "LayoutModel",
            "_view_count": null,
            "_view_module": "@jupyter-widgets/base",
            "_view_module_version": "1.2.0",
            "_view_name": "LayoutView",
            "align_content": null,
            "align_items": null,
            "align_self": null,
            "border": null,
            "bottom": null,
            "display": null,
            "flex": null,
            "flex_flow": null,
            "grid_area": null,
            "grid_auto_columns": null,
            "grid_auto_flow": null,
            "grid_auto_rows": null,
            "grid_column": null,
            "grid_gap": null,
            "grid_row": null,
            "grid_template_areas": null,
            "grid_template_columns": null,
            "grid_template_rows": null,
            "height": null,
            "justify_content": null,
            "justify_items": null,
            "left": null,
            "margin": null,
            "max_height": null,
            "max_width": null,
            "min_height": null,
            "min_width": null,
            "object_fit": null,
            "object_position": null,
            "order": null,
            "overflow": null,
            "overflow_x": null,
            "overflow_y": null,
            "padding": null,
            "right": null,
            "top": null,
            "visibility": null,
            "width": null
          }
        },
        "a797b0307b7d4148bd58ea967faff89e": {
          "model_module": "@jupyter-widgets/base",
          "model_name": "LayoutModel",
          "model_module_version": "1.2.0",
          "state": {
            "_model_module": "@jupyter-widgets/base",
            "_model_module_version": "1.2.0",
            "_model_name": "LayoutModel",
            "_view_count": null,
            "_view_module": "@jupyter-widgets/base",
            "_view_module_version": "1.2.0",
            "_view_name": "LayoutView",
            "align_content": null,
            "align_items": null,
            "align_self": null,
            "border": null,
            "bottom": null,
            "display": null,
            "flex": null,
            "flex_flow": null,
            "grid_area": null,
            "grid_auto_columns": null,
            "grid_auto_flow": null,
            "grid_auto_rows": null,
            "grid_column": null,
            "grid_gap": null,
            "grid_row": null,
            "grid_template_areas": null,
            "grid_template_columns": null,
            "grid_template_rows": null,
            "height": null,
            "justify_content": null,
            "justify_items": null,
            "left": null,
            "margin": null,
            "max_height": null,
            "max_width": null,
            "min_height": null,
            "min_width": null,
            "object_fit": null,
            "object_position": null,
            "order": null,
            "overflow": null,
            "overflow_x": null,
            "overflow_y": null,
            "padding": null,
            "right": null,
            "top": null,
            "visibility": null,
            "width": null
          }
        },
        "4fec86d235784314ad7a97151f2922e0": {
          "model_module": "@jupyter-widgets/controls",
          "model_name": "DescriptionStyleModel",
          "model_module_version": "1.5.0",
          "state": {
            "_model_module": "@jupyter-widgets/controls",
            "_model_module_version": "1.5.0",
            "_model_name": "DescriptionStyleModel",
            "_view_count": null,
            "_view_module": "@jupyter-widgets/base",
            "_view_module_version": "1.2.0",
            "_view_name": "StyleView",
            "description_width": ""
          }
        },
        "a7764e5e100e4c6ab4599165bea97dc8": {
          "model_module": "@jupyter-widgets/base",
          "model_name": "LayoutModel",
          "model_module_version": "1.2.0",
          "state": {
            "_model_module": "@jupyter-widgets/base",
            "_model_module_version": "1.2.0",
            "_model_name": "LayoutModel",
            "_view_count": null,
            "_view_module": "@jupyter-widgets/base",
            "_view_module_version": "1.2.0",
            "_view_name": "LayoutView",
            "align_content": null,
            "align_items": null,
            "align_self": null,
            "border": null,
            "bottom": null,
            "display": null,
            "flex": null,
            "flex_flow": null,
            "grid_area": null,
            "grid_auto_columns": null,
            "grid_auto_flow": null,
            "grid_auto_rows": null,
            "grid_column": null,
            "grid_gap": null,
            "grid_row": null,
            "grid_template_areas": null,
            "grid_template_columns": null,
            "grid_template_rows": null,
            "height": null,
            "justify_content": null,
            "justify_items": null,
            "left": null,
            "margin": null,
            "max_height": null,
            "max_width": null,
            "min_height": null,
            "min_width": null,
            "object_fit": null,
            "object_position": null,
            "order": null,
            "overflow": null,
            "overflow_x": null,
            "overflow_y": null,
            "padding": null,
            "right": null,
            "top": null,
            "visibility": null,
            "width": null
          }
        },
        "a6ff8cd0c29e44ef9b3777aa9089543d": {
          "model_module": "@jupyter-widgets/controls",
          "model_name": "ProgressStyleModel",
          "model_module_version": "1.5.0",
          "state": {
            "_model_module": "@jupyter-widgets/controls",
            "_model_module_version": "1.5.0",
            "_model_name": "ProgressStyleModel",
            "_view_count": null,
            "_view_module": "@jupyter-widgets/base",
            "_view_module_version": "1.2.0",
            "_view_name": "StyleView",
            "bar_color": null,
            "description_width": ""
          }
        },
        "257f14295aaa46c4b8cbca27048b8fc1": {
          "model_module": "@jupyter-widgets/base",
          "model_name": "LayoutModel",
          "model_module_version": "1.2.0",
          "state": {
            "_model_module": "@jupyter-widgets/base",
            "_model_module_version": "1.2.0",
            "_model_name": "LayoutModel",
            "_view_count": null,
            "_view_module": "@jupyter-widgets/base",
            "_view_module_version": "1.2.0",
            "_view_name": "LayoutView",
            "align_content": null,
            "align_items": null,
            "align_self": null,
            "border": null,
            "bottom": null,
            "display": null,
            "flex": null,
            "flex_flow": null,
            "grid_area": null,
            "grid_auto_columns": null,
            "grid_auto_flow": null,
            "grid_auto_rows": null,
            "grid_column": null,
            "grid_gap": null,
            "grid_row": null,
            "grid_template_areas": null,
            "grid_template_columns": null,
            "grid_template_rows": null,
            "height": null,
            "justify_content": null,
            "justify_items": null,
            "left": null,
            "margin": null,
            "max_height": null,
            "max_width": null,
            "min_height": null,
            "min_width": null,
            "object_fit": null,
            "object_position": null,
            "order": null,
            "overflow": null,
            "overflow_x": null,
            "overflow_y": null,
            "padding": null,
            "right": null,
            "top": null,
            "visibility": null,
            "width": null
          }
        },
        "b2dd11f3b4e545618d7c2f5de26c4bc3": {
          "model_module": "@jupyter-widgets/controls",
          "model_name": "DescriptionStyleModel",
          "model_module_version": "1.5.0",
          "state": {
            "_model_module": "@jupyter-widgets/controls",
            "_model_module_version": "1.5.0",
            "_model_name": "DescriptionStyleModel",
            "_view_count": null,
            "_view_module": "@jupyter-widgets/base",
            "_view_module_version": "1.2.0",
            "_view_name": "StyleView",
            "description_width": ""
          }
        },
        "7076ae2e3ae64fd7b8d7cf17d9ccf444": {
          "model_module": "@jupyter-widgets/controls",
          "model_name": "HBoxModel",
          "model_module_version": "1.5.0",
          "state": {
            "_dom_classes": [],
            "_model_module": "@jupyter-widgets/controls",
            "_model_module_version": "1.5.0",
            "_model_name": "HBoxModel",
            "_view_count": null,
            "_view_module": "@jupyter-widgets/controls",
            "_view_module_version": "1.5.0",
            "_view_name": "HBoxView",
            "box_style": "",
            "children": [
              "IPY_MODEL_fd914af7e43544c1b705705d2c81af13",
              "IPY_MODEL_39559cd168a34f11863cc70bb9c1f227",
              "IPY_MODEL_8cfc2e07a1db4a87b16126dc474e20cb"
            ],
            "layout": "IPY_MODEL_f82d040c7cbc452ab350892583c2a054"
          }
        },
        "fd914af7e43544c1b705705d2c81af13": {
          "model_module": "@jupyter-widgets/controls",
          "model_name": "HTMLModel",
          "model_module_version": "1.5.0",
          "state": {
            "_dom_classes": [],
            "_model_module": "@jupyter-widgets/controls",
            "_model_module_version": "1.5.0",
            "_model_name": "HTMLModel",
            "_view_count": null,
            "_view_module": "@jupyter-widgets/controls",
            "_view_module_version": "1.5.0",
            "_view_name": "HTMLView",
            "description": "",
            "description_tooltip": null,
            "layout": "IPY_MODEL_af480592c6584c30af0112a30cf50ae2",
            "placeholder": "​",
            "style": "IPY_MODEL_33f6117e74484a6ba636e5802ef401a6",
            "value": "100%"
          }
        },
        "39559cd168a34f11863cc70bb9c1f227": {
          "model_module": "@jupyter-widgets/controls",
          "model_name": "FloatProgressModel",
          "model_module_version": "1.5.0",
          "state": {
            "_dom_classes": [],
            "_model_module": "@jupyter-widgets/controls",
            "_model_module_version": "1.5.0",
            "_model_name": "FloatProgressModel",
            "_view_count": null,
            "_view_module": "@jupyter-widgets/controls",
            "_view_module_version": "1.5.0",
            "_view_name": "ProgressView",
            "bar_style": "success",
            "description": "",
            "description_tooltip": null,
            "layout": "IPY_MODEL_3ae4c56cfd1d4e04abb0b51482cb1285",
            "max": 12,
            "min": 0,
            "orientation": "horizontal",
            "style": "IPY_MODEL_43de3e5ea7644077be66f4215d72b602",
            "value": 12
          }
        },
        "8cfc2e07a1db4a87b16126dc474e20cb": {
          "model_module": "@jupyter-widgets/controls",
          "model_name": "HTMLModel",
          "model_module_version": "1.5.0",
          "state": {
            "_dom_classes": [],
            "_model_module": "@jupyter-widgets/controls",
            "_model_module_version": "1.5.0",
            "_model_name": "HTMLModel",
            "_view_count": null,
            "_view_module": "@jupyter-widgets/controls",
            "_view_module_version": "1.5.0",
            "_view_name": "HTMLView",
            "description": "",
            "description_tooltip": null,
            "layout": "IPY_MODEL_c46237be7646434b834b8401d721c6e2",
            "placeholder": "​",
            "style": "IPY_MODEL_091f884e343d4173b2343c7230fae2c7",
            "value": " 12/12 [00:07&lt;00:00,  2.89it/s]"
          }
        },
        "f82d040c7cbc452ab350892583c2a054": {
          "model_module": "@jupyter-widgets/base",
          "model_name": "LayoutModel",
          "model_module_version": "1.2.0",
          "state": {
            "_model_module": "@jupyter-widgets/base",
            "_model_module_version": "1.2.0",
            "_model_name": "LayoutModel",
            "_view_count": null,
            "_view_module": "@jupyter-widgets/base",
            "_view_module_version": "1.2.0",
            "_view_name": "LayoutView",
            "align_content": null,
            "align_items": null,
            "align_self": null,
            "border": null,
            "bottom": null,
            "display": null,
            "flex": null,
            "flex_flow": null,
            "grid_area": null,
            "grid_auto_columns": null,
            "grid_auto_flow": null,
            "grid_auto_rows": null,
            "grid_column": null,
            "grid_gap": null,
            "grid_row": null,
            "grid_template_areas": null,
            "grid_template_columns": null,
            "grid_template_rows": null,
            "height": null,
            "justify_content": null,
            "justify_items": null,
            "left": null,
            "margin": null,
            "max_height": null,
            "max_width": null,
            "min_height": null,
            "min_width": null,
            "object_fit": null,
            "object_position": null,
            "order": null,
            "overflow": null,
            "overflow_x": null,
            "overflow_y": null,
            "padding": null,
            "right": null,
            "top": null,
            "visibility": null,
            "width": null
          }
        },
        "af480592c6584c30af0112a30cf50ae2": {
          "model_module": "@jupyter-widgets/base",
          "model_name": "LayoutModel",
          "model_module_version": "1.2.0",
          "state": {
            "_model_module": "@jupyter-widgets/base",
            "_model_module_version": "1.2.0",
            "_model_name": "LayoutModel",
            "_view_count": null,
            "_view_module": "@jupyter-widgets/base",
            "_view_module_version": "1.2.0",
            "_view_name": "LayoutView",
            "align_content": null,
            "align_items": null,
            "align_self": null,
            "border": null,
            "bottom": null,
            "display": null,
            "flex": null,
            "flex_flow": null,
            "grid_area": null,
            "grid_auto_columns": null,
            "grid_auto_flow": null,
            "grid_auto_rows": null,
            "grid_column": null,
            "grid_gap": null,
            "grid_row": null,
            "grid_template_areas": null,
            "grid_template_columns": null,
            "grid_template_rows": null,
            "height": null,
            "justify_content": null,
            "justify_items": null,
            "left": null,
            "margin": null,
            "max_height": null,
            "max_width": null,
            "min_height": null,
            "min_width": null,
            "object_fit": null,
            "object_position": null,
            "order": null,
            "overflow": null,
            "overflow_x": null,
            "overflow_y": null,
            "padding": null,
            "right": null,
            "top": null,
            "visibility": null,
            "width": null
          }
        },
        "33f6117e74484a6ba636e5802ef401a6": {
          "model_module": "@jupyter-widgets/controls",
          "model_name": "DescriptionStyleModel",
          "model_module_version": "1.5.0",
          "state": {
            "_model_module": "@jupyter-widgets/controls",
            "_model_module_version": "1.5.0",
            "_model_name": "DescriptionStyleModel",
            "_view_count": null,
            "_view_module": "@jupyter-widgets/base",
            "_view_module_version": "1.2.0",
            "_view_name": "StyleView",
            "description_width": ""
          }
        },
        "3ae4c56cfd1d4e04abb0b51482cb1285": {
          "model_module": "@jupyter-widgets/base",
          "model_name": "LayoutModel",
          "model_module_version": "1.2.0",
          "state": {
            "_model_module": "@jupyter-widgets/base",
            "_model_module_version": "1.2.0",
            "_model_name": "LayoutModel",
            "_view_count": null,
            "_view_module": "@jupyter-widgets/base",
            "_view_module_version": "1.2.0",
            "_view_name": "LayoutView",
            "align_content": null,
            "align_items": null,
            "align_self": null,
            "border": null,
            "bottom": null,
            "display": null,
            "flex": null,
            "flex_flow": null,
            "grid_area": null,
            "grid_auto_columns": null,
            "grid_auto_flow": null,
            "grid_auto_rows": null,
            "grid_column": null,
            "grid_gap": null,
            "grid_row": null,
            "grid_template_areas": null,
            "grid_template_columns": null,
            "grid_template_rows": null,
            "height": null,
            "justify_content": null,
            "justify_items": null,
            "left": null,
            "margin": null,
            "max_height": null,
            "max_width": null,
            "min_height": null,
            "min_width": null,
            "object_fit": null,
            "object_position": null,
            "order": null,
            "overflow": null,
            "overflow_x": null,
            "overflow_y": null,
            "padding": null,
            "right": null,
            "top": null,
            "visibility": null,
            "width": null
          }
        },
        "43de3e5ea7644077be66f4215d72b602": {
          "model_module": "@jupyter-widgets/controls",
          "model_name": "ProgressStyleModel",
          "model_module_version": "1.5.0",
          "state": {
            "_model_module": "@jupyter-widgets/controls",
            "_model_module_version": "1.5.0",
            "_model_name": "ProgressStyleModel",
            "_view_count": null,
            "_view_module": "@jupyter-widgets/base",
            "_view_module_version": "1.2.0",
            "_view_name": "StyleView",
            "bar_color": null,
            "description_width": ""
          }
        },
        "c46237be7646434b834b8401d721c6e2": {
          "model_module": "@jupyter-widgets/base",
          "model_name": "LayoutModel",
          "model_module_version": "1.2.0",
          "state": {
            "_model_module": "@jupyter-widgets/base",
            "_model_module_version": "1.2.0",
            "_model_name": "LayoutModel",
            "_view_count": null,
            "_view_module": "@jupyter-widgets/base",
            "_view_module_version": "1.2.0",
            "_view_name": "LayoutView",
            "align_content": null,
            "align_items": null,
            "align_self": null,
            "border": null,
            "bottom": null,
            "display": null,
            "flex": null,
            "flex_flow": null,
            "grid_area": null,
            "grid_auto_columns": null,
            "grid_auto_flow": null,
            "grid_auto_rows": null,
            "grid_column": null,
            "grid_gap": null,
            "grid_row": null,
            "grid_template_areas": null,
            "grid_template_columns": null,
            "grid_template_rows": null,
            "height": null,
            "justify_content": null,
            "justify_items": null,
            "left": null,
            "margin": null,
            "max_height": null,
            "max_width": null,
            "min_height": null,
            "min_width": null,
            "object_fit": null,
            "object_position": null,
            "order": null,
            "overflow": null,
            "overflow_x": null,
            "overflow_y": null,
            "padding": null,
            "right": null,
            "top": null,
            "visibility": null,
            "width": null
          }
        },
        "091f884e343d4173b2343c7230fae2c7": {
          "model_module": "@jupyter-widgets/controls",
          "model_name": "DescriptionStyleModel",
          "model_module_version": "1.5.0",
          "state": {
            "_model_module": "@jupyter-widgets/controls",
            "_model_module_version": "1.5.0",
            "_model_name": "DescriptionStyleModel",
            "_view_count": null,
            "_view_module": "@jupyter-widgets/base",
            "_view_module_version": "1.2.0",
            "_view_name": "StyleView",
            "description_width": ""
          }
        },
        "db36bde96a414dfcb509576e121f753a": {
          "model_module": "@jupyter-widgets/controls",
          "model_name": "HBoxModel",
          "model_module_version": "1.5.0",
          "state": {
            "_dom_classes": [],
            "_model_module": "@jupyter-widgets/controls",
            "_model_module_version": "1.5.0",
            "_model_name": "HBoxModel",
            "_view_count": null,
            "_view_module": "@jupyter-widgets/controls",
            "_view_module_version": "1.5.0",
            "_view_name": "HBoxView",
            "box_style": "",
            "children": [
              "IPY_MODEL_b28a2f479b2446719d55b3650d91c82f",
              "IPY_MODEL_22f2817f315d41af8c03aad3aad963d1",
              "IPY_MODEL_5d0bad691979424e97a94c03cc0ab888"
            ],
            "layout": "IPY_MODEL_905ec586147e4039a90d2e98510ce47f"
          }
        },
        "b28a2f479b2446719d55b3650d91c82f": {
          "model_module": "@jupyter-widgets/controls",
          "model_name": "HTMLModel",
          "model_module_version": "1.5.0",
          "state": {
            "_dom_classes": [],
            "_model_module": "@jupyter-widgets/controls",
            "_model_module_version": "1.5.0",
            "_model_name": "HTMLModel",
            "_view_count": null,
            "_view_module": "@jupyter-widgets/controls",
            "_view_module_version": "1.5.0",
            "_view_name": "HTMLView",
            "description": "",
            "description_tooltip": null,
            "layout": "IPY_MODEL_db8bbf0713d04564b1d4158248119235",
            "placeholder": "​",
            "style": "IPY_MODEL_b95e655a02f741748115b70222119105",
            "value": "epochs:   1%"
          }
        },
        "22f2817f315d41af8c03aad3aad963d1": {
          "model_module": "@jupyter-widgets/controls",
          "model_name": "FloatProgressModel",
          "model_module_version": "1.5.0",
          "state": {
            "_dom_classes": [],
            "_model_module": "@jupyter-widgets/controls",
            "_model_module_version": "1.5.0",
            "_model_name": "FloatProgressModel",
            "_view_count": null,
            "_view_module": "@jupyter-widgets/controls",
            "_view_module_version": "1.5.0",
            "_view_name": "ProgressView",
            "bar_style": "danger",
            "description": "",
            "description_tooltip": null,
            "layout": "IPY_MODEL_0022fa4b916744778d2a8417eaa642a1",
            "max": 1000,
            "min": 0,
            "orientation": "horizontal",
            "style": "IPY_MODEL_394903113be3432da6e6eec579583308",
            "value": 13
          }
        },
        "5d0bad691979424e97a94c03cc0ab888": {
          "model_module": "@jupyter-widgets/controls",
          "model_name": "HTMLModel",
          "model_module_version": "1.5.0",
          "state": {
            "_dom_classes": [],
            "_model_module": "@jupyter-widgets/controls",
            "_model_module_version": "1.5.0",
            "_model_name": "HTMLModel",
            "_view_count": null,
            "_view_module": "@jupyter-widgets/controls",
            "_view_module_version": "1.5.0",
            "_view_name": "HTMLView",
            "description": "",
            "description_tooltip": null,
            "layout": "IPY_MODEL_d344aa514bc948c698194b0f7a6b6fe2",
            "placeholder": "​",
            "style": "IPY_MODEL_591a50916cab4e2082a77cee260dd0de",
            "value": " 13/1000 [00:02&lt;02:13,  7.42it/s]"
          }
        },
        "905ec586147e4039a90d2e98510ce47f": {
          "model_module": "@jupyter-widgets/base",
          "model_name": "LayoutModel",
          "model_module_version": "1.2.0",
          "state": {
            "_model_module": "@jupyter-widgets/base",
            "_model_module_version": "1.2.0",
            "_model_name": "LayoutModel",
            "_view_count": null,
            "_view_module": "@jupyter-widgets/base",
            "_view_module_version": "1.2.0",
            "_view_name": "LayoutView",
            "align_content": null,
            "align_items": null,
            "align_self": null,
            "border": null,
            "bottom": null,
            "display": null,
            "flex": null,
            "flex_flow": null,
            "grid_area": null,
            "grid_auto_columns": null,
            "grid_auto_flow": null,
            "grid_auto_rows": null,
            "grid_column": null,
            "grid_gap": null,
            "grid_row": null,
            "grid_template_areas": null,
            "grid_template_columns": null,
            "grid_template_rows": null,
            "height": null,
            "justify_content": null,
            "justify_items": null,
            "left": null,
            "margin": null,
            "max_height": null,
            "max_width": null,
            "min_height": null,
            "min_width": null,
            "object_fit": null,
            "object_position": null,
            "order": null,
            "overflow": null,
            "overflow_x": null,
            "overflow_y": null,
            "padding": null,
            "right": null,
            "top": null,
            "visibility": null,
            "width": null
          }
        },
        "db8bbf0713d04564b1d4158248119235": {
          "model_module": "@jupyter-widgets/base",
          "model_name": "LayoutModel",
          "model_module_version": "1.2.0",
          "state": {
            "_model_module": "@jupyter-widgets/base",
            "_model_module_version": "1.2.0",
            "_model_name": "LayoutModel",
            "_view_count": null,
            "_view_module": "@jupyter-widgets/base",
            "_view_module_version": "1.2.0",
            "_view_name": "LayoutView",
            "align_content": null,
            "align_items": null,
            "align_self": null,
            "border": null,
            "bottom": null,
            "display": null,
            "flex": null,
            "flex_flow": null,
            "grid_area": null,
            "grid_auto_columns": null,
            "grid_auto_flow": null,
            "grid_auto_rows": null,
            "grid_column": null,
            "grid_gap": null,
            "grid_row": null,
            "grid_template_areas": null,
            "grid_template_columns": null,
            "grid_template_rows": null,
            "height": null,
            "justify_content": null,
            "justify_items": null,
            "left": null,
            "margin": null,
            "max_height": null,
            "max_width": null,
            "min_height": null,
            "min_width": null,
            "object_fit": null,
            "object_position": null,
            "order": null,
            "overflow": null,
            "overflow_x": null,
            "overflow_y": null,
            "padding": null,
            "right": null,
            "top": null,
            "visibility": null,
            "width": null
          }
        },
        "b95e655a02f741748115b70222119105": {
          "model_module": "@jupyter-widgets/controls",
          "model_name": "DescriptionStyleModel",
          "model_module_version": "1.5.0",
          "state": {
            "_model_module": "@jupyter-widgets/controls",
            "_model_module_version": "1.5.0",
            "_model_name": "DescriptionStyleModel",
            "_view_count": null,
            "_view_module": "@jupyter-widgets/base",
            "_view_module_version": "1.2.0",
            "_view_name": "StyleView",
            "description_width": ""
          }
        },
        "0022fa4b916744778d2a8417eaa642a1": {
          "model_module": "@jupyter-widgets/base",
          "model_name": "LayoutModel",
          "model_module_version": "1.2.0",
          "state": {
            "_model_module": "@jupyter-widgets/base",
            "_model_module_version": "1.2.0",
            "_model_name": "LayoutModel",
            "_view_count": null,
            "_view_module": "@jupyter-widgets/base",
            "_view_module_version": "1.2.0",
            "_view_name": "LayoutView",
            "align_content": null,
            "align_items": null,
            "align_self": null,
            "border": null,
            "bottom": null,
            "display": null,
            "flex": null,
            "flex_flow": null,
            "grid_area": null,
            "grid_auto_columns": null,
            "grid_auto_flow": null,
            "grid_auto_rows": null,
            "grid_column": null,
            "grid_gap": null,
            "grid_row": null,
            "grid_template_areas": null,
            "grid_template_columns": null,
            "grid_template_rows": null,
            "height": null,
            "justify_content": null,
            "justify_items": null,
            "left": null,
            "margin": null,
            "max_height": null,
            "max_width": null,
            "min_height": null,
            "min_width": null,
            "object_fit": null,
            "object_position": null,
            "order": null,
            "overflow": null,
            "overflow_x": null,
            "overflow_y": null,
            "padding": null,
            "right": null,
            "top": null,
            "visibility": null,
            "width": null
          }
        },
        "394903113be3432da6e6eec579583308": {
          "model_module": "@jupyter-widgets/controls",
          "model_name": "ProgressStyleModel",
          "model_module_version": "1.5.0",
          "state": {
            "_model_module": "@jupyter-widgets/controls",
            "_model_module_version": "1.5.0",
            "_model_name": "ProgressStyleModel",
            "_view_count": null,
            "_view_module": "@jupyter-widgets/base",
            "_view_module_version": "1.2.0",
            "_view_name": "StyleView",
            "bar_color": null,
            "description_width": ""
          }
        },
        "d344aa514bc948c698194b0f7a6b6fe2": {
          "model_module": "@jupyter-widgets/base",
          "model_name": "LayoutModel",
          "model_module_version": "1.2.0",
          "state": {
            "_model_module": "@jupyter-widgets/base",
            "_model_module_version": "1.2.0",
            "_model_name": "LayoutModel",
            "_view_count": null,
            "_view_module": "@jupyter-widgets/base",
            "_view_module_version": "1.2.0",
            "_view_name": "LayoutView",
            "align_content": null,
            "align_items": null,
            "align_self": null,
            "border": null,
            "bottom": null,
            "display": null,
            "flex": null,
            "flex_flow": null,
            "grid_area": null,
            "grid_auto_columns": null,
            "grid_auto_flow": null,
            "grid_auto_rows": null,
            "grid_column": null,
            "grid_gap": null,
            "grid_row": null,
            "grid_template_areas": null,
            "grid_template_columns": null,
            "grid_template_rows": null,
            "height": null,
            "justify_content": null,
            "justify_items": null,
            "left": null,
            "margin": null,
            "max_height": null,
            "max_width": null,
            "min_height": null,
            "min_width": null,
            "object_fit": null,
            "object_position": null,
            "order": null,
            "overflow": null,
            "overflow_x": null,
            "overflow_y": null,
            "padding": null,
            "right": null,
            "top": null,
            "visibility": null,
            "width": null
          }
        },
        "591a50916cab4e2082a77cee260dd0de": {
          "model_module": "@jupyter-widgets/controls",
          "model_name": "DescriptionStyleModel",
          "model_module_version": "1.5.0",
          "state": {
            "_model_module": "@jupyter-widgets/controls",
            "_model_module_version": "1.5.0",
            "_model_name": "DescriptionStyleModel",
            "_view_count": null,
            "_view_module": "@jupyter-widgets/base",
            "_view_module_version": "1.2.0",
            "_view_name": "StyleView",
            "description_width": ""
          }
        }
      }
    }
  },
  "cells": [
    {
      "cell_type": "markdown",
      "source": [
        "# MP1\n",
        "By Anumita Dhobly & Lingjun Wen"
      ],
      "metadata": {
        "id": "XGOOqx5DsBCM"
      }
    },
    {
      "cell_type": "code",
      "execution_count": null,
      "metadata": {
        "id": "aM3vQTBSv2t2"
      },
      "outputs": [],
      "source": [
        "import torch\n",
        "import torch.nn as nn\n",
        "import torch.optim as optim\n",
        "\n",
        "import pandas as pd\n",
        "import numpy as np\n",
        "\n",
        "from sklearn.preprocessing import StandardScaler\n",
        "from sklearn.model_selection import train_test_split\n",
        "\n",
        "from sklearn.calibration import calibration_curve\n",
        "from sklearn.metrics import brier_score_loss\n",
        "from sklearn.metrics import confusion_matrix\n",
        "from sklearn.metrics import accuracy_score\n",
        "from sklearn.svm import OneClassSVM\n",
        "\n",
        "\n",
        "from tqdm.notebook import tqdm\n",
        "import matplotlib.pyplot as plt"
      ]
    },
    {
      "cell_type": "code",
      "source": [
        "torch.manual_seed(1)\n",
        "np.random.seed(1)"
      ],
      "metadata": {
        "id": "7c6FsEJ3xBin"
      },
      "execution_count": null,
      "outputs": []
    },
    {
      "cell_type": "markdown",
      "source": [
        "# Part 1"
      ],
      "metadata": {
        "id": "RS2WznNOyBzQ"
      }
    },
    {
      "cell_type": "code",
      "source": [
        "# Load the Data from Github\n",
        "url = \"https://raw.githubusercontent.com/propublica/compas-analysis/master/compas-scores-two-years.csv\"\n",
        "df = pd.read_csv(url)\n",
        "\n",
        "# Using the same 7 features that was used by the paper\n",
        "features = df[['age', \n",
        "                 'sex', \n",
        "                 'c_charge_desc',\n",
        "                 'c_charge_degree', \n",
        "                 'priors_count', \n",
        "                 'juv_fel_count', \n",
        "                 'juv_misd_count']]\n",
        "\n",
        "# One-hot encoding to make categorical features numerical\n",
        "features = pd.get_dummies(features, columns=['c_charge_degree',\n",
        "                                             'sex',\n",
        "                                             'c_charge_desc'])\n",
        "\n",
        "target = df['two_year_recid']"
      ],
      "metadata": {
        "id": "Wk2LJFD1wNoM"
      },
      "execution_count": null,
      "outputs": []
    },
    {
      "cell_type": "code",
      "source": [
        "# Train Test Split - using sklearn\n",
        "X_train, X_test, y_train, y_test = train_test_split(features, target, test_size=0.2, random_state=42)\n",
        "\n",
        "# Processing Data - standardize data mean = 0, stddev = 1 -- to improve performance & stability\n",
        "scaler = StandardScaler()\n",
        "X_train = scaler.fit_transform(X_train)\n",
        "X_test = scaler.fit_transform(X_test)\n",
        "\n",
        "# print(type(X_train))\n",
        "# print(\"\\n\")\n",
        "\n",
        "\n",
        "# Convert to tensors -- inputs for the pytorch model\n",
        "X_train = torch.tensor(X_train, dtype=torch.float32)\n",
        "# print(X_train.type)\n",
        "y_train = torch.tensor(y_train.values, dtype=torch.float32).view(-1, 1) # reshape to 1 col & however many rows needed (-1) \n",
        "\n",
        "X_test = torch.tensor(X_test, dtype=torch.float32)\n",
        "y_test = torch.tensor(y_test.values, dtype=torch.float32).view(-1, 1)\n",
        "\n",
        "# n = X_train.shape[0] + X_test.shape[0]"
      ],
      "metadata": {
        "id": "hakOvEKAwOJa"
      },
      "execution_count": null,
      "outputs": []
    },
    {
      "cell_type": "code",
      "source": [
        "# Define Logistic Regression Model -- using nn.Module\n",
        "class LogisticRegression(nn.Module): # new LogisticRegression class inherits from nn.Module\n",
        "    def __init__(self, input_dim): # __init__ method with inout arguement input_dim\n",
        "        # inhereit the methods and attributes of parent class\n",
        "        super(LogisticRegression, self).__init__()\n",
        "        self.linear = nn.Linear(input_dim, 1) # linear layer\n",
        "\n",
        "    # computation \"layer\"\n",
        "    def forward(self, x):\n",
        "        y_pred = torch.sigmoid(self.linear(x)) \n",
        "        return y_pred"
      ],
      "metadata": {
        "id": "WinwNjmlwRO7"
      },
      "execution_count": null,
      "outputs": []
    },
    {
      "cell_type": "code",
      "source": [
        "LRmodel = LogisticRegression(input_dim=X_train.shape[1]) # create the logistic regression model\n",
        "\n",
        "# Define the loss function (binary cross-entropy) and optimizer (stochastic gradient descent)\n",
        "criterion = nn.BCELoss()\n",
        "optimizer = optim.SGD(LRmodel.parameters(), lr=0.01)\n",
        "\n",
        "\n",
        "# Training\n",
        "epochs = 1000\n",
        "for epoch in tqdm(range(epochs)):\n",
        "  LRmodel.train()\n",
        "\n",
        "  y_pred = LRmodel(X_train)\n",
        "\n",
        "  loss = criterion(y_pred, y_train)\n",
        "\n",
        "  optimizer.zero_grad()\n",
        "  loss.backward()\n",
        "  optimizer.step()\n",
        "\n",
        "  LRmodel.eval()\n",
        "  with torch.inference_mode():\n",
        "    y_pred_test = LRmodel(X_test)\n",
        "    \n",
        "    test_loss = criterion(y_pred_test, y_test)\n",
        "  \n",
        "  if (epoch + 1) % 100 == 0:\n",
        "      print(f\"\\nEpoch: [{epoch + 1}/{epochs}] | Training Loss: {loss:.5f} | Test loss: {test_loss:.5f}%\")"
      ],
      "metadata": {
        "colab": {
          "base_uri": "https://localhost:8080/",
          "height": 405,
          "referenced_widgets": [
            "76134e3f37e443c4b59ae8366bff7c34",
            "4f9435e6648a4bcbbffb79c179833ad5",
            "43573d54326e40c48eb3b2332994d643",
            "306b55e0032749fbb7b7c6449a756f0d",
            "cf4e6b11821e4241817c9abaad50831d",
            "a797b0307b7d4148bd58ea967faff89e",
            "4fec86d235784314ad7a97151f2922e0",
            "a7764e5e100e4c6ab4599165bea97dc8",
            "a6ff8cd0c29e44ef9b3777aa9089543d",
            "257f14295aaa46c4b8cbca27048b8fc1",
            "b2dd11f3b4e545618d7c2f5de26c4bc3"
          ]
        },
        "id": "uKo8vNU8wTQG",
        "outputId": "f99bb0f2-4ed1-4ab8-e71d-345ac62c2aea"
      },
      "execution_count": null,
      "outputs": [
        {
          "output_type": "display_data",
          "data": {
            "text/plain": [
              "  0%|          | 0/1000 [00:00<?, ?it/s]"
            ],
            "application/vnd.jupyter.widget-view+json": {
              "version_major": 2,
              "version_minor": 0,
              "model_id": "76134e3f37e443c4b59ae8366bff7c34"
            }
          },
          "metadata": {}
        },
        {
          "output_type": "stream",
          "name": "stdout",
          "text": [
            "\n",
            "Epoch: [100/1000] | Training Loss: 0.66768 | Test loss: 0.67126%\n",
            "\n",
            "Epoch: [200/1000] | Training Loss: 0.63259 | Test loss: 0.65125%\n",
            "\n",
            "Epoch: [300/1000] | Training Loss: 0.61184 | Test loss: 0.64039%\n",
            "\n",
            "Epoch: [400/1000] | Training Loss: 0.59880 | Test loss: 0.63390%\n",
            "\n",
            "Epoch: [500/1000] | Training Loss: 0.59025 | Test loss: 0.62980%\n",
            "\n",
            "Epoch: [600/1000] | Training Loss: 0.58442 | Test loss: 0.62712%\n",
            "\n",
            "Epoch: [700/1000] | Training Loss: 0.58030 | Test loss: 0.62533%\n",
            "\n",
            "Epoch: [800/1000] | Training Loss: 0.57730 | Test loss: 0.62410%\n",
            "\n",
            "Epoch: [900/1000] | Training Loss: 0.57506 | Test loss: 0.62325%\n",
            "\n",
            "Epoch: [1000/1000] | Training Loss: 0.57335 | Test loss: 0.62266%\n"
          ]
        }
      ]
    },
    {
      "cell_type": "code",
      "source": [
        "# Predictions & Evaluate Model Performance\n",
        "threshold = 0.5\n",
        "with torch.no_grad():\n",
        "    y_pred_test = LRmodel(X_test)\n",
        "    y_pred_test = (y_pred_test > threshold).float().view(-1)\n",
        "    accuracy = accuracy_score(y_test, y_pred_test)\n",
        "    print(\"Accuracy:\", accuracy)"
      ],
      "metadata": {
        "colab": {
          "base_uri": "https://localhost:8080/"
        },
        "id": "9QKVQ2dIxshq",
        "outputId": "2aa9d006-7ee7-491d-be2b-202ebe33fb22"
      },
      "execution_count": null,
      "outputs": [
        {
          "output_type": "stream",
          "name": "stdout",
          "text": [
            "Accuracy: 0.6611226611226612\n"
          ]
        }
      ]
    },
    {
      "cell_type": "markdown",
      "source": [
        "### Calibration Curve & Brier Score"
      ],
      "metadata": {
        "id": "L7UeRqQHx4Es"
      }
    },
    {
      "cell_type": "code",
      "source": [
        "# Plotting Calibration Curve & Calculate Brier Score to Evaluate Calibration\n",
        "with torch.no_grad():\n",
        "    y_pred_probs = LRmodel(X_test).numpy()\n",
        "\n",
        "# Compute the calibration curve\n",
        "fraction_of_positives, mean_predicted_value = calibration_curve(y_test.numpy(), y_pred_probs, n_bins=5)\n",
        "\n",
        "# Plot the calibration curve\n",
        "plt.plot(mean_predicted_value, fraction_of_positives, marker='o', linestyle='-', label='Logistic Regression Model')\n",
        "plt.plot([0, 1], [0, 1], linestyle='--', color='red', label='Perfect Calibration')\n",
        "plt.xlabel('Mean predicted value')\n",
        "plt.ylabel('Fraction of positives')\n",
        "plt.title('Calibration Curve')\n",
        "plt.legend()\n",
        "plt.show()\n",
        "\n",
        "# Calculate the Brier score\n",
        "brier_score = brier_score_loss(y_test.numpy(), y_pred_probs)\n",
        "print(\"Brier Score:\", brier_score)\n",
        "\n",
        "# Calculate the variance of the predicted probabilities\n",
        "variance_pred_probs = np.var(y_pred_probs)\n",
        "# std_dev_pred_probs = 2 * np.sqrt(2) * np.sqrt(variance_pred_probs)\n",
        "\n",
        "# # Print the variance\n",
        "# print(f\"Variance of Predicted Probabilities: {variance_pred_probs:.4f}\")\n",
        "# print(f\"Physics Requirement: \\u00B1 {std_dev_pred_probs:.4f}\")"
      ],
      "metadata": {
        "colab": {
          "base_uri": "https://localhost:8080/",
          "height": 490
        },
        "id": "cPrDrIkPx3O7",
        "outputId": "0d28cb92-2e97-4dae-94d5-60d80aac3946"
      },
      "execution_count": null,
      "outputs": [
        {
          "output_type": "display_data",
          "data": {
            "text/plain": [
              "<Figure size 640x480 with 1 Axes>"
            ],
            "image/png": "[encoded data removed]"
          },
          "metadata": {}
        },
        {
          "output_type": "stream",
          "name": "stdout",
          "text": [
            "Brier Score: 0.21554309022116544\n"
          ]
        }
      ]
    },
    {
      "cell_type": "markdown",
      "source": [
        "The model does not satisfy the calibration curve exactly; however, with the low Brier score of approximately 0.22, the model seems to be well calibrated. Also, the predicted value of approximately 65.4 ~= 66.6 provided by the paper and is well within the range of 95% confidence values [64.4, 68.9] given by the paper. Therefore, we can say from this that at least the values measured are not significantly different from true proportions."
      ],
      "metadata": {
        "id": "LIG7R0WcyWUr"
      }
    },
    {
      "cell_type": "markdown",
      "source": [
        "### False Positive Parity"
      ],
      "metadata": {
        "id": "AxJ4jngPyW_k"
      }
    },
    {
      "cell_type": "code",
      "source": [
        "# Create a new DataFrame with race included\n",
        "features_with_race = df[['age', \n",
        "                           'sex', \n",
        "                           'c_charge_desc',\n",
        "                           'c_charge_degree', \n",
        "                           'priors_count', \n",
        "                           'juv_fel_count', \n",
        "                           'juv_misd_count',\n",
        "                           'race']]\n",
        "\n",
        "features_with_race = pd.get_dummies(features_with_race, columns=['c_charge_degree',\n",
        "                                                                 'sex',\n",
        "                                                                 'c_charge_desc'])\n",
        "\n",
        "# Split the data into training and test sets with indices\n",
        "__, X_test_race, __, y_test = train_test_split(features_with_race, target, test_size=0.2, random_state=42)\n",
        "\n",
        "# Remove the 'race' column from X_test_race\n",
        "X_test_without_race = X_test_race.drop(columns='race', errors='ignore')\n",
        "\n",
        "# Standardize the test set without the 'race' column\n",
        "X_test_without_race = scaler.transform(X_test_without_race)\n",
        "\n",
        "# Convert X_test_without_race to tensor\n",
        "X_test_without_race_tensor = torch.tensor(X_test_without_race, dtype=torch.float32)\n",
        "\n",
        "# Make predictions on the test set using the PyTorch model\n",
        "with torch.no_grad():\n",
        "    y_pred_test_race = LRmodel(X_test_without_race_tensor).numpy()\n",
        "    y_pred_probs =  y_pred_test_race.copy()\n",
        "    y_pred_test_race = (y_pred_test_race > threshold).astype(int)\n",
        "\n",
        "# Calculate the confusion matrix for each race\n",
        "races = X_test_race['race'].unique()\n",
        "false_positive_rates = {}\n",
        "\n",
        "for race in races:\n",
        "    race_indices = X_test_race[X_test_race['race'] == race].index\n",
        "    race_positions = np.where(X_test_race.index.isin(race_indices))[0]  # Get the positions of the race indices\n",
        "    y_test_race = y_test[race_indices].values\n",
        "    y_pred_race = y_pred_test_race[race_positions]  # Use the positions instead of the actual indices\n",
        "\n",
        "    tn, fp, fn, tp = confusion_matrix(y_test_race, y_pred_race).ravel()\n",
        "    fpr = fp / (fp + tn)\n",
        "    false_positive_rates[race] = fpr\n",
        "\n",
        "# Print the false positive rates for each race\n",
        "for race, fpr in false_positive_rates.items():\n",
        "    if race == 'Caucasian' or race == 'African-American':\n",
        "        print(f\"{race}: False Positive Rate = {fpr:.2f}\")"
      ],
      "metadata": {
        "colab": {
          "base_uri": "https://localhost:8080/"
        },
        "id": "qrhav0y9yKWQ",
        "outputId": "2a5d0efc-6308-4f0f-e5dd-61fd32d99276"
      },
      "execution_count": null,
      "outputs": [
        {
          "output_type": "stream",
          "name": "stdout",
          "text": [
            "Caucasian: False Positive Rate = 0.18\n",
            "African-American: False Positive Rate = 0.33\n"
          ]
        }
      ]
    },
    {
      "cell_type": "markdown",
      "source": [
        "There clearly is a false positive rate disparity (aka false-positive rate parity is not satisfied) here, as the false positive rate for caucasian is approximately 0.18 (18%) and the false positive rate for african americans is approx 0.33 (33%), which is almost twice as much as their white counterparts."
      ],
      "metadata": {
        "id": "HPPk1e0mynmw"
      }
    },
    {
      "cell_type": "code",
      "source": [
        "# Create a new DataFrame with race included\n",
        "features_with_race = df[['age', \n",
        "                           'sex', \n",
        "                           'c_charge_desc',\n",
        "                           'c_charge_degree', \n",
        "                           'priors_count', \n",
        "                           'juv_fel_count', \n",
        "                           'juv_misd_count',\n",
        "                           'race']]\n",
        "\n",
        "features_with_race = pd.get_dummies(features_with_race, columns=['c_charge_degree',\n",
        "                                                                 'sex',\n",
        "                                                                 'c_charge_desc'])\n",
        "\n",
        "# Split the data into training and test sets with indices\n",
        "__, X_test_race, __, y_test = train_test_split(features_with_race, target, test_size=0.2, random_state=42)\n",
        "\n",
        "# Remove the 'race' column from X_test_race\n",
        "X_test_without_race = X_test_race.drop(columns='race', errors='ignore')\n",
        "\n",
        "# Standardize the test set without the 'race' column\n",
        "X_test_without_race = scaler.transform(X_test_without_race)\n",
        "\n",
        "# Convert X_test_without_race to tensor\n",
        "X_test_without_race_tensor = torch.tensor(X_test_without_race, dtype=torch.float32)\n",
        "\n",
        "# Make predictions on the test set using the LogisticRegression model\n",
        "with torch.no_grad():\n",
        "    y_pred_test_race = LRmodel(X_test_without_race_tensor).numpy()\n",
        "    y_pred_probs =  y_pred_test_race.copy()\n",
        "\n",
        "# Calculate the confusion matrix for each race\n",
        "races = X_test_race['race'].unique()\n",
        "false_positive_rates = {}\n",
        "\n",
        "thresholds = [(0.585, 0.515, 0.5), (0.555, 0.495, 0.5)]\n",
        "\n",
        "for threshold in thresholds:\n",
        "    black_threshold, white_threshold, other_threshold = threshold\n",
        "    print(f\"black threshold: {black_threshold}\\nwhite threshold: {white_threshold}\\n\")\n",
        "\n",
        "    for race in races:\n",
        "        race_indices = X_test_race[X_test_race['race'] == race].index\n",
        "        race_positions = np.where(X_test_race.index.isin(race_indices))[0]  # Get the positions of the race indices\n",
        "        y_test_race = y_test[race_indices].values\n",
        "        \n",
        "        if race == 'Caucasian':\n",
        "            y_pred_race = (y_pred_test_race > white_threshold).astype(int)[race_positions]  # Use the positions instead of the actual indices\n",
        "            accuracy = accuracy_score(y_test_race, y_pred_race)\n",
        "            print(\"Caucasian Accuracy:\", accuracy)\n",
        "        \n",
        "        elif race == 'African-American':\n",
        "            y_pred_race = (y_pred_test_race > black_threshold).astype(int)[race_positions]  # Use the positions instead of the actual indices\n",
        "            accuracy = accuracy_score(y_test_race, y_pred_race)\n",
        "            print(\"Black Accuracy:\", accuracy)\n",
        "        \n",
        "        else:\n",
        "            y_pred_race = (y_pred_test_race > other_threshold).astype(int)[race_positions]\n",
        "\n",
        "            \n",
        "\n",
        "        tn, fp, fn, tp = confusion_matrix(y_test_race, y_pred_race).ravel()\n",
        "        fpr = fp / (fp + tn)\n",
        "        false_positive_rates[race] = fpr\n",
        "\n",
        "    # Print the false positive rates for each race\n",
        "    for race, fpr in false_positive_rates.items():\n",
        "        if race == 'Caucasian' or race == 'African-American':\n",
        "            print(f\"{race}: False Positive Rate = {fpr:.2f}\")\n",
        "    print(\"\\n\\n\")"
      ],
      "metadata": {
        "colab": {
          "base_uri": "https://localhost:8080/"
        },
        "id": "TrFZ-QWzy1xj",
        "outputId": "0171380a-98e6-4f3c-8e06-d9d53ce403ca"
      },
      "execution_count": null,
      "outputs": [
        {
          "output_type": "stream",
          "name": "stdout",
          "text": [
            "black threshold: 0.585\n",
            "white threshold: 0.515\n",
            "\n",
            "Caucasian Accuracy: 0.6831683168316832\n",
            "Black Accuracy: 0.6265389876880985\n",
            "Caucasian: False Positive Rate = 0.15\n",
            "African-American: False Positive Rate = 0.17\n",
            "\n",
            "\n",
            "\n",
            "black threshold: 0.555\n",
            "white threshold: 0.495\n",
            "\n",
            "Caucasian Accuracy: 0.6712871287128713\n",
            "Black Accuracy: 0.6388508891928865\n",
            "Caucasian: False Positive Rate = 0.20\n",
            "African-American: False Positive Rate = 0.20\n",
            "\n",
            "\n",
            "\n"
          ]
        }
      ]
    },
    {
      "cell_type": "markdown",
      "source": [
        "two possible choices for thresholds:\n",
        "\n",
        "(black_threshold1, white_threshold1) = (0.585, 0.515)\n",
        "\n",
        "white accuracy ≈ 67%\n",
        "\n",
        "black_accuracy ≈ 62%\n",
        "\n",
        "white FPR ≈ 16%\n",
        "\n",
        "black FPR ≈ 17%\n",
        "\n",
        "black_threshold2, white_threshold2 = (0.555, 0.495)\n",
        "\n",
        "white accuracy ≈ 67%\n",
        "\n",
        "black_accuracy ≈ 63%\n",
        "\n",
        "white FPR ≈ 20%\n",
        "\n",
        "black FPR ≈ 20%"
      ],
      "metadata": {
        "id": "wgUzXaJQy6Jo"
      }
    },
    {
      "cell_type": "markdown",
      "source": [
        "# Part 2"
      ],
      "metadata": {
        "id": "tBLcri4h1nBK"
      }
    },
    {
      "cell_type": "code",
      "source": [
        "df['c_jail_in'] = pd.to_datetime(df['c_jail_in'])\n",
        "df['c_jail_out'] = pd.to_datetime(df['c_jail_out'])\n",
        "\n",
        "df['c_charge_desc'] = df['c_charge_desc'].replace(np.nan, 'none')\n",
        "\n",
        "df.loc[df[\"sex\"] == \"Male\", \"sex\"] = 1\n",
        "df.loc[df[\"sex\"] == \"Female\", \"sex\"] = 0\n",
        "\n",
        "df.loc[df[\"c_charge_degree\"] == \"M\", \"c_charge_degree\"] = 0\n",
        "df.loc[df[\"c_charge_degree\"] == \"F\", \"c_charge_degree\"] = 1\n",
        "\n",
        "df = df.astype({'sex':'int', 'c_charge_degree':'int'})"
      ],
      "metadata": {
        "id": "PmnCRkpt2_5r"
      },
      "execution_count": null,
      "outputs": []
    },
    {
      "cell_type": "code",
      "source": [
        "columns = ['id', 'is_recid',\n",
        "           'sex','age','priors_count',\n",
        "           'c_charge_desc','c_charge_degree','c_jail_in','c_jail_out']\n",
        "           \n",
        "df2 = df[columns].set_index('id')\n",
        "\n",
        "df2['c_jail_in'] = df2['c_jail_in'].dt.date\n",
        "df2['c_jail_out'] = df2['c_jail_out'].dt.date\n",
        "\n",
        "df2['c_jail_time'] = df2['c_jail_out'] - df2['c_jail_in']\n",
        "\n",
        "df2['c_jail_time'] = df2['c_jail_time'].dt.days.astype('float32')\n",
        "\n",
        "df2['c_charge_desc'] = df2['c_charge_desc'].replace(np.nan, 'none')\n",
        "df2['c_jail_time'] = df2['c_jail_time'].replace(np.nan, 0.0)\n",
        "\n",
        "df2.head()"
      ],
      "metadata": {
        "colab": {
          "base_uri": "https://localhost:8080/",
          "height": 237
        },
        "id": "gjndYs_C6HnX",
        "outputId": "9ecd753f-4b77-4465-95aa-e839a0e9cbd7"
      },
      "execution_count": null,
      "outputs": [
        {
          "output_type": "execute_result",
          "data": {
            "text/plain": [
              "    is_recid  sex  age  priors_count                   c_charge_desc  \\\n",
              "id                                                                     \n",
              "1          0    1   69             0    Aggravated Assault w/Firearm   \n",
              "3          1    1   34             0  Felony Battery w/Prior Convict   \n",
              "4          1    1   24             4           Possession of Cocaine   \n",
              "5          0    1   23             1          Possession of Cannabis   \n",
              "6          0    1   43             2           arrest case no charge   \n",
              "\n",
              "    c_charge_degree   c_jail_in  c_jail_out  c_jail_time  \n",
              "id                                                        \n",
              "1                 1  2013-08-13  2013-08-14          1.0  \n",
              "3                 1  2013-01-26  2013-02-05         10.0  \n",
              "4                 1  2013-04-13  2013-04-14          1.0  \n",
              "5                 1         NaT         NaT          0.0  \n",
              "6                 1         NaT         NaT          0.0  "
            ],
            "text/html": [
              "\n",
              "  <div id=\"df-9e02db95-0019-43cd-aaf9-447c3125bde5\">\n",
              "    <div class=\"colab-df-container\">\n",
              "      <div>\n",
              "<style scoped>\n",
              "    .dataframe tbody tr th:only-of-type {\n",
              "        vertical-align: middle;\n",
              "    }\n",
              "\n",
              "    .dataframe tbody tr th {\n",
              "        vertical-align: top;\n",
              "    }\n",
              "\n",
              "    .dataframe thead th {\n",
              "        text-align: right;\n",
              "    }\n",
              "</style>\n",
              "<table border=\"1\" class=\"dataframe\">\n",
              "  <thead>\n",
              "    <tr style=\"text-align: right;\">\n",
              "      <th></th>\n",
              "      <th>is_recid</th>\n",
              "      <th>sex</th>\n",
              "      <th>age</th>\n",
              "      <th>priors_count</th>\n",
              "      <th>c_charge_desc</th>\n",
              "      <th>c_charge_degree</th>\n",
              "      <th>c_jail_in</th>\n",
              "      <th>c_jail_out</th>\n",
              "      <th>c_jail_time</th>\n",
              "    </tr>\n",
              "    <tr>\n",
              "      <th>id</th>\n",
              "      <th></th>\n",
              "      <th></th>\n",
              "      <th></th>\n",
              "      <th></th>\n",
              "      <th></th>\n",
              "      <th></th>\n",
              "      <th></th>\n",
              "      <th></th>\n",
              "      <th></th>\n",
              "    </tr>\n",
              "  </thead>\n",
              "  <tbody>\n",
              "    <tr>\n",
              "      <th>1</th>\n",
              "      <td>0</td>\n",
              "      <td>1</td>\n",
              "      <td>69</td>\n",
              "      <td>0</td>\n",
              "      <td>Aggravated Assault w/Firearm</td>\n",
              "      <td>1</td>\n",
              "      <td>2013-08-13</td>\n",
              "      <td>2013-08-14</td>\n",
              "      <td>1.0</td>\n",
              "    </tr>\n",
              "    <tr>\n",
              "      <th>3</th>\n",
              "      <td>1</td>\n",
              "      <td>1</td>\n",
              "      <td>34</td>\n",
              "      <td>0</td>\n",
              "      <td>Felony Battery w/Prior Convict</td>\n",
              "      <td>1</td>\n",
              "      <td>2013-01-26</td>\n",
              "      <td>2013-02-05</td>\n",
              "      <td>10.0</td>\n",
              "    </tr>\n",
              "    <tr>\n",
              "      <th>4</th>\n",
              "      <td>1</td>\n",
              "      <td>1</td>\n",
              "      <td>24</td>\n",
              "      <td>4</td>\n",
              "      <td>Possession of Cocaine</td>\n",
              "      <td>1</td>\n",
              "      <td>2013-04-13</td>\n",
              "      <td>2013-04-14</td>\n",
              "      <td>1.0</td>\n",
              "    </tr>\n",
              "    <tr>\n",
              "      <th>5</th>\n",
              "      <td>0</td>\n",
              "      <td>1</td>\n",
              "      <td>23</td>\n",
              "      <td>1</td>\n",
              "      <td>Possession of Cannabis</td>\n",
              "      <td>1</td>\n",
              "      <td>NaT</td>\n",
              "      <td>NaT</td>\n",
              "      <td>0.0</td>\n",
              "    </tr>\n",
              "    <tr>\n",
              "      <th>6</th>\n",
              "      <td>0</td>\n",
              "      <td>1</td>\n",
              "      <td>43</td>\n",
              "      <td>2</td>\n",
              "      <td>arrest case no charge</td>\n",
              "      <td>1</td>\n",
              "      <td>NaT</td>\n",
              "      <td>NaT</td>\n",
              "      <td>0.0</td>\n",
              "    </tr>\n",
              "  </tbody>\n",
              "</table>\n",
              "</div>\n",
              "      <button class=\"colab-df-convert\" onclick=\"convertToInteractive('df-9e02db95-0019-43cd-aaf9-447c3125bde5')\"\n",
              "              title=\"Convert this dataframe to an interactive table.\"\n",
              "              style=\"display:none;\">\n",
              "        \n",
              "  <svg xmlns=\"http://www.w3.org/2000/svg\" height=\"24px\"viewBox=\"0 0 24 24\"\n",
              "       width=\"24px\">\n",
              "    <path d=\"M0 0h24v24H0V0z\" fill=\"none\"/>\n",
              "    <path d=\"M18.56 5.44l.94 2.06.94-2.06 2.06-.94-2.06-.94-.94-2.06-.94 2.06-2.06.94zm-11 1L8.5 8.5l.94-2.06 2.06-.94-2.06-.94L8.5 2.5l-.94 2.06-2.06.94zm10 10l.94 2.06.94-2.06 2.06-.94-2.06-.94-.94-2.06-.94 2.06-2.06.94z\"/><path d=\"M17.41 7.96l-1.37-1.37c-.4-.4-.92-.59-1.43-.59-.52 0-1.04.2-1.43.59L10.3 9.45l-7.72 7.72c-.78.78-.78 2.05 0 2.83L4 21.41c.39.39.9.59 1.41.59.51 0 1.02-.2 1.41-.59l7.78-7.78 2.81-2.81c.8-.78.8-2.07 0-2.86zM5.41 20L4 18.59l7.72-7.72 1.47 1.35L5.41 20z\"/>\n",
              "  </svg>\n",
              "      </button>\n",
              "      \n",
              "  <style>\n",
              "    .colab-df-container {\n",
              "      display:flex;\n",
              "      flex-wrap:wrap;\n",
              "      gap: 12px;\n",
              "    }\n",
              "\n",
              "    .colab-df-convert {\n",
              "      background-color: #E8F0FE;\n",
              "      border: none;\n",
              "      border-radius: 50%;\n",
              "      cursor: pointer;\n",
              "      display: none;\n",
              "      fill: #1967D2;\n",
              "      height: 32px;\n",
              "      padding: 0 0 0 0;\n",
              "      width: 32px;\n",
              "    }\n",
              "\n",
              "    .colab-df-convert:hover {\n",
              "      background-color: #E2EBFA;\n",
              "      box-shadow: 0px 1px 2px rgba(60, 64, 67, 0.3), 0px 1px 3px 1px rgba(60, 64, 67, 0.15);\n",
              "      fill: #174EA6;\n",
              "    }\n",
              "\n",
              "    [theme=dark] .colab-df-convert {\n",
              "      background-color: #3B4455;\n",
              "      fill: #D2E3FC;\n",
              "    }\n",
              "\n",
              "    [theme=dark] .colab-df-convert:hover {\n",
              "      background-color: #434B5C;\n",
              "      box-shadow: 0px 1px 3px 1px rgba(0, 0, 0, 0.15);\n",
              "      filter: drop-shadow(0px 1px 2px rgba(0, 0, 0, 0.3));\n",
              "      fill: #FFFFFF;\n",
              "    }\n",
              "  </style>\n",
              "\n",
              "      <script>\n",
              "        const buttonEl =\n",
              "          document.querySelector('#df-9e02db95-0019-43cd-aaf9-447c3125bde5 button.colab-df-convert');\n",
              "        buttonEl.style.display =\n",
              "          google.colab.kernel.accessAllowed ? 'block' : 'none';\n",
              "\n",
              "        async function convertToInteractive(key) {\n",
              "          const element = document.querySelector('#df-9e02db95-0019-43cd-aaf9-447c3125bde5');\n",
              "          const dataTable =\n",
              "            await google.colab.kernel.invokeFunction('convertToInteractive',\n",
              "                                                     [key], {});\n",
              "          if (!dataTable) return;\n",
              "\n",
              "          const docLinkHtml = 'Like what you see? Visit the ' +\n",
              "            '<a target=\"_blank\" href=https://colab.research.google.com/notebooks/data_table.ipynb>data table notebook</a>'\n",
              "            + ' to learn more about interactive tables.';\n",
              "          element.innerHTML = '';\n",
              "          dataTable['output_type'] = 'display_data';\n",
              "          await google.colab.output.renderOutput(dataTable, element);\n",
              "          const docLink = document.createElement('div');\n",
              "          docLink.innerHTML = docLinkHtml;\n",
              "          element.appendChild(docLink);\n",
              "        }\n",
              "      </script>\n",
              "    </div>\n",
              "  </div>\n",
              "  "
            ]
          },
          "metadata": {},
          "execution_count": 12
        }
      ]
    },
    {
      "cell_type": "code",
      "source": [
        "charge_dummies = pd.get_dummies(df2.c_charge_desc)\n",
        "df2 = pd.concat([df2, charge_dummies], axis=1)\n",
        "df2.head()"
      ],
      "metadata": {
        "colab": {
          "base_uri": "https://localhost:8080/",
          "height": 504
        },
        "id": "vxz66SXs6Kg_",
        "outputId": "4368ac75-9613-4176-d8ce-f2d809eac9c7"
      },
      "execution_count": null,
      "outputs": [
        {
          "output_type": "execute_result",
          "data": {
            "text/plain": [
              "    is_recid  sex  age  priors_count                   c_charge_desc  \\\n",
              "id                                                                     \n",
              "1          0    1   69             0    Aggravated Assault w/Firearm   \n",
              "3          1    1   34             0  Felony Battery w/Prior Convict   \n",
              "4          1    1   24             4           Possession of Cocaine   \n",
              "5          0    1   23             1          Possession of Cannabis   \n",
              "6          0    1   43             2           arrest case no charge   \n",
              "\n",
              "    c_charge_degree   c_jail_in  c_jail_out  c_jail_time  \\\n",
              "id                                                         \n",
              "1                 1  2013-08-13  2013-08-14          1.0   \n",
              "3                 1  2013-01-26  2013-02-05         10.0   \n",
              "4                 1  2013-04-13  2013-04-14          1.0   \n",
              "5                 1         NaT         NaT          0.0   \n",
              "6                 1         NaT         NaT          0.0   \n",
              "\n",
              "    Abuse Without Great Harm  ...  Viol Injunct Domestic Violence  \\\n",
              "id                            ...                                   \n",
              "1                          0  ...                               0   \n",
              "3                          0  ...                               0   \n",
              "4                          0  ...                               0   \n",
              "5                          0  ...                               0   \n",
              "6                          0  ...                               0   \n",
              "\n",
              "    Viol Injunction Protect Dom Vi  Viol Pretrial Release Dom Viol  \\\n",
              "id                                                                   \n",
              "1                                0                               0   \n",
              "3                                0                               0   \n",
              "4                                0                               0   \n",
              "5                                0                               0   \n",
              "6                                0                               0   \n",
              "\n",
              "    Viol Prot Injunc Repeat Viol  Violation License Restrictions  \\\n",
              "id                                                                 \n",
              "1                              0                               0   \n",
              "3                              0                               0   \n",
              "4                              0                               0   \n",
              "5                              0                               0   \n",
              "6                              0                               0   \n",
              "\n",
              "    Violation Of Boater Safety Id  \\\n",
              "id                                  \n",
              "1                               0   \n",
              "3                               0   \n",
              "4                               0   \n",
              "5                               0   \n",
              "6                               0   \n",
              "\n",
              "    Violation of Injunction Order/Stalking/Cyberstalking  Voyeurism  \\\n",
              "id                                                                    \n",
              "1                                                   0             0   \n",
              "3                                                   0             0   \n",
              "4                                                   0             0   \n",
              "5                                                   0             0   \n",
              "6                                                   0             0   \n",
              "\n",
              "    arrest case no charge  none  \n",
              "id                               \n",
              "1                       0     0  \n",
              "3                       0     0  \n",
              "4                       0     0  \n",
              "5                       0     0  \n",
              "6                       1     0  \n",
              "\n",
              "[5 rows x 447 columns]"
            ],
            "text/html": [
              "\n",
              "  <div id=\"df-79b37714-522a-4489-8c2e-dd4e3338f841\">\n",
              "    <div class=\"colab-df-container\">\n",
              "      <div>\n",
              "<style scoped>\n",
              "    .dataframe tbody tr th:only-of-type {\n",
              "        vertical-align: middle;\n",
              "    }\n",
              "\n",
              "    .dataframe tbody tr th {\n",
              "        vertical-align: top;\n",
              "    }\n",
              "\n",
              "    .dataframe thead th {\n",
              "        text-align: right;\n",
              "    }\n",
              "</style>\n",
              "<table border=\"1\" class=\"dataframe\">\n",
              "  <thead>\n",
              "    <tr style=\"text-align: right;\">\n",
              "      <th></th>\n",
              "      <th>is_recid</th>\n",
              "      <th>sex</th>\n",
              "      <th>age</th>\n",
              "      <th>priors_count</th>\n",
              "      <th>c_charge_desc</th>\n",
              "      <th>c_charge_degree</th>\n",
              "      <th>c_jail_in</th>\n",
              "      <th>c_jail_out</th>\n",
              "      <th>c_jail_time</th>\n",
              "      <th>Abuse Without Great Harm</th>\n",
              "      <th>...</th>\n",
              "      <th>Viol Injunct Domestic Violence</th>\n",
              "      <th>Viol Injunction Protect Dom Vi</th>\n",
              "      <th>Viol Pretrial Release Dom Viol</th>\n",
              "      <th>Viol Prot Injunc Repeat Viol</th>\n",
              "      <th>Violation License Restrictions</th>\n",
              "      <th>Violation Of Boater Safety Id</th>\n",
              "      <th>Violation of Injunction Order/Stalking/Cyberstalking</th>\n",
              "      <th>Voyeurism</th>\n",
              "      <th>arrest case no charge</th>\n",
              "      <th>none</th>\n",
              "    </tr>\n",
              "    <tr>\n",
              "      <th>id</th>\n",
              "      <th></th>\n",
              "      <th></th>\n",
              "      <th></th>\n",
              "      <th></th>\n",
              "      <th></th>\n",
              "      <th></th>\n",
              "      <th></th>\n",
              "      <th></th>\n",
              "      <th></th>\n",
              "      <th></th>\n",
              "      <th></th>\n",
              "      <th></th>\n",
              "      <th></th>\n",
              "      <th></th>\n",
              "      <th></th>\n",
              "      <th></th>\n",
              "      <th></th>\n",
              "      <th></th>\n",
              "      <th></th>\n",
              "      <th></th>\n",
              "      <th></th>\n",
              "    </tr>\n",
              "  </thead>\n",
              "  <tbody>\n",
              "    <tr>\n",
              "      <th>1</th>\n",
              "      <td>0</td>\n",
              "      <td>1</td>\n",
              "      <td>69</td>\n",
              "      <td>0</td>\n",
              "      <td>Aggravated Assault w/Firearm</td>\n",
              "      <td>1</td>\n",
              "      <td>2013-08-13</td>\n",
              "      <td>2013-08-14</td>\n",
              "      <td>1.0</td>\n",
              "      <td>0</td>\n",
              "      <td>...</td>\n",
              "      <td>0</td>\n",
              "      <td>0</td>\n",
              "      <td>0</td>\n",
              "      <td>0</td>\n",
              "      <td>0</td>\n",
              "      <td>0</td>\n",
              "      <td>0</td>\n",
              "      <td>0</td>\n",
              "      <td>0</td>\n",
              "      <td>0</td>\n",
              "    </tr>\n",
              "    <tr>\n",
              "      <th>3</th>\n",
              "      <td>1</td>\n",
              "      <td>1</td>\n",
              "      <td>34</td>\n",
              "      <td>0</td>\n",
              "      <td>Felony Battery w/Prior Convict</td>\n",
              "      <td>1</td>\n",
              "      <td>2013-01-26</td>\n",
              "      <td>2013-02-05</td>\n",
              "      <td>10.0</td>\n",
              "      <td>0</td>\n",
              "      <td>...</td>\n",
              "      <td>0</td>\n",
              "      <td>0</td>\n",
              "      <td>0</td>\n",
              "      <td>0</td>\n",
              "      <td>0</td>\n",
              "      <td>0</td>\n",
              "      <td>0</td>\n",
              "      <td>0</td>\n",
              "      <td>0</td>\n",
              "      <td>0</td>\n",
              "    </tr>\n",
              "    <tr>\n",
              "      <th>4</th>\n",
              "      <td>1</td>\n",
              "      <td>1</td>\n",
              "      <td>24</td>\n",
              "      <td>4</td>\n",
              "      <td>Possession of Cocaine</td>\n",
              "      <td>1</td>\n",
              "      <td>2013-04-13</td>\n",
              "      <td>2013-04-14</td>\n",
              "      <td>1.0</td>\n",
              "      <td>0</td>\n",
              "      <td>...</td>\n",
              "      <td>0</td>\n",
              "      <td>0</td>\n",
              "      <td>0</td>\n",
              "      <td>0</td>\n",
              "      <td>0</td>\n",
              "      <td>0</td>\n",
              "      <td>0</td>\n",
              "      <td>0</td>\n",
              "      <td>0</td>\n",
              "      <td>0</td>\n",
              "    </tr>\n",
              "    <tr>\n",
              "      <th>5</th>\n",
              "      <td>0</td>\n",
              "      <td>1</td>\n",
              "      <td>23</td>\n",
              "      <td>1</td>\n",
              "      <td>Possession of Cannabis</td>\n",
              "      <td>1</td>\n",
              "      <td>NaT</td>\n",
              "      <td>NaT</td>\n",
              "      <td>0.0</td>\n",
              "      <td>0</td>\n",
              "      <td>...</td>\n",
              "      <td>0</td>\n",
              "      <td>0</td>\n",
              "      <td>0</td>\n",
              "      <td>0</td>\n",
              "      <td>0</td>\n",
              "      <td>0</td>\n",
              "      <td>0</td>\n",
              "      <td>0</td>\n",
              "      <td>0</td>\n",
              "      <td>0</td>\n",
              "    </tr>\n",
              "    <tr>\n",
              "      <th>6</th>\n",
              "      <td>0</td>\n",
              "      <td>1</td>\n",
              "      <td>43</td>\n",
              "      <td>2</td>\n",
              "      <td>arrest case no charge</td>\n",
              "      <td>1</td>\n",
              "      <td>NaT</td>\n",
              "      <td>NaT</td>\n",
              "      <td>0.0</td>\n",
              "      <td>0</td>\n",
              "      <td>...</td>\n",
              "      <td>0</td>\n",
              "      <td>0</td>\n",
              "      <td>0</td>\n",
              "      <td>0</td>\n",
              "      <td>0</td>\n",
              "      <td>0</td>\n",
              "      <td>0</td>\n",
              "      <td>0</td>\n",
              "      <td>1</td>\n",
              "      <td>0</td>\n",
              "    </tr>\n",
              "  </tbody>\n",
              "</table>\n",
              "<p>5 rows × 447 columns</p>\n",
              "</div>\n",
              "      <button class=\"colab-df-convert\" onclick=\"convertToInteractive('df-79b37714-522a-4489-8c2e-dd4e3338f841')\"\n",
              "              title=\"Convert this dataframe to an interactive table.\"\n",
              "              style=\"display:none;\">\n",
              "        \n",
              "  <svg xmlns=\"http://www.w3.org/2000/svg\" height=\"24px\"viewBox=\"0 0 24 24\"\n",
              "       width=\"24px\">\n",
              "    <path d=\"M0 0h24v24H0V0z\" fill=\"none\"/>\n",
              "    <path d=\"M18.56 5.44l.94 2.06.94-2.06 2.06-.94-2.06-.94-.94-2.06-.94 2.06-2.06.94zm-11 1L8.5 8.5l.94-2.06 2.06-.94-2.06-.94L8.5 2.5l-.94 2.06-2.06.94zm10 10l.94 2.06.94-2.06 2.06-.94-2.06-.94-.94-2.06-.94 2.06-2.06.94z\"/><path d=\"M17.41 7.96l-1.37-1.37c-.4-.4-.92-.59-1.43-.59-.52 0-1.04.2-1.43.59L10.3 9.45l-7.72 7.72c-.78.78-.78 2.05 0 2.83L4 21.41c.39.39.9.59 1.41.59.51 0 1.02-.2 1.41-.59l7.78-7.78 2.81-2.81c.8-.78.8-2.07 0-2.86zM5.41 20L4 18.59l7.72-7.72 1.47 1.35L5.41 20z\"/>\n",
              "  </svg>\n",
              "      </button>\n",
              "      \n",
              "  <style>\n",
              "    .colab-df-container {\n",
              "      display:flex;\n",
              "      flex-wrap:wrap;\n",
              "      gap: 12px;\n",
              "    }\n",
              "\n",
              "    .colab-df-convert {\n",
              "      background-color: #E8F0FE;\n",
              "      border: none;\n",
              "      border-radius: 50%;\n",
              "      cursor: pointer;\n",
              "      display: none;\n",
              "      fill: #1967D2;\n",
              "      height: 32px;\n",
              "      padding: 0 0 0 0;\n",
              "      width: 32px;\n",
              "    }\n",
              "\n",
              "    .colab-df-convert:hover {\n",
              "      background-color: #E2EBFA;\n",
              "      box-shadow: 0px 1px 2px rgba(60, 64, 67, 0.3), 0px 1px 3px 1px rgba(60, 64, 67, 0.15);\n",
              "      fill: #174EA6;\n",
              "    }\n",
              "\n",
              "    [theme=dark] .colab-df-convert {\n",
              "      background-color: #3B4455;\n",
              "      fill: #D2E3FC;\n",
              "    }\n",
              "\n",
              "    [theme=dark] .colab-df-convert:hover {\n",
              "      background-color: #434B5C;\n",
              "      box-shadow: 0px 1px 3px 1px rgba(0, 0, 0, 0.15);\n",
              "      filter: drop-shadow(0px 1px 2px rgba(0, 0, 0, 0.3));\n",
              "      fill: #FFFFFF;\n",
              "    }\n",
              "  </style>\n",
              "\n",
              "      <script>\n",
              "        const buttonEl =\n",
              "          document.querySelector('#df-79b37714-522a-4489-8c2e-dd4e3338f841 button.colab-df-convert');\n",
              "        buttonEl.style.display =\n",
              "          google.colab.kernel.accessAllowed ? 'block' : 'none';\n",
              "\n",
              "        async function convertToInteractive(key) {\n",
              "          const element = document.querySelector('#df-79b37714-522a-4489-8c2e-dd4e3338f841');\n",
              "          const dataTable =\n",
              "            await google.colab.kernel.invokeFunction('convertToInteractive',\n",
              "                                                     [key], {});\n",
              "          if (!dataTable) return;\n",
              "\n",
              "          const docLinkHtml = 'Like what you see? Visit the ' +\n",
              "            '<a target=\"_blank\" href=https://colab.research.google.com/notebooks/data_table.ipynb>data table notebook</a>'\n",
              "            + ' to learn more about interactive tables.';\n",
              "          element.innerHTML = '';\n",
              "          dataTable['output_type'] = 'display_data';\n",
              "          await google.colab.output.renderOutput(dataTable, element);\n",
              "          const docLink = document.createElement('div');\n",
              "          docLink.innerHTML = docLinkHtml;\n",
              "          element.appendChild(docLink);\n",
              "        }\n",
              "      </script>\n",
              "    </div>\n",
              "  </div>\n",
              "  "
            ]
          },
          "metadata": {},
          "execution_count": 13
        }
      ]
    },
    {
      "cell_type": "code",
      "source": [
        "df2 = df2.drop(columns=['c_jail_in', 'c_jail_out', 'c_charge_desc'])\n",
        "df2.head()"
      ],
      "metadata": {
        "colab": {
          "base_uri": "https://localhost:8080/",
          "height": 400
        },
        "id": "X7dKD3z86OAG",
        "outputId": "b57d96fe-6fef-4a76-b486-aea1d7df7cd5"
      },
      "execution_count": null,
      "outputs": [
        {
          "output_type": "execute_result",
          "data": {
            "text/plain": [
              "    is_recid  sex  age  priors_count  c_charge_degree  c_jail_time  \\\n",
              "id                                                                   \n",
              "1          0    1   69             0                1          1.0   \n",
              "3          1    1   34             0                1         10.0   \n",
              "4          1    1   24             4                1          1.0   \n",
              "5          0    1   23             1                1          0.0   \n",
              "6          0    1   43             2                1          0.0   \n",
              "\n",
              "    Abuse Without Great Harm  Accessory After the Fact  \\\n",
              "id                                                       \n",
              "1                          0                         0   \n",
              "3                          0                         0   \n",
              "4                          0                         0   \n",
              "5                          0                         0   \n",
              "6                          0                         0   \n",
              "\n",
              "    Agg Abuse Elderlly/Disabled Adult  Agg Assault Law Enforc Officer  ...  \\\n",
              "id                                                                     ...   \n",
              "1                                   0                               0  ...   \n",
              "3                                   0                               0  ...   \n",
              "4                                   0                               0  ...   \n",
              "5                                   0                               0  ...   \n",
              "6                                   0                               0  ...   \n",
              "\n",
              "    Viol Injunct Domestic Violence  Viol Injunction Protect Dom Vi  \\\n",
              "id                                                                   \n",
              "1                                0                               0   \n",
              "3                                0                               0   \n",
              "4                                0                               0   \n",
              "5                                0                               0   \n",
              "6                                0                               0   \n",
              "\n",
              "    Viol Pretrial Release Dom Viol  Viol Prot Injunc Repeat Viol  \\\n",
              "id                                                                 \n",
              "1                                0                             0   \n",
              "3                                0                             0   \n",
              "4                                0                             0   \n",
              "5                                0                             0   \n",
              "6                                0                             0   \n",
              "\n",
              "    Violation License Restrictions  Violation Of Boater Safety Id  \\\n",
              "id                                                                  \n",
              "1                                0                              0   \n",
              "3                                0                              0   \n",
              "4                                0                              0   \n",
              "5                                0                              0   \n",
              "6                                0                              0   \n",
              "\n",
              "    Violation of Injunction Order/Stalking/Cyberstalking  Voyeurism  \\\n",
              "id                                                                    \n",
              "1                                                   0             0   \n",
              "3                                                   0             0   \n",
              "4                                                   0             0   \n",
              "5                                                   0             0   \n",
              "6                                                   0             0   \n",
              "\n",
              "    arrest case no charge  none  \n",
              "id                               \n",
              "1                       0     0  \n",
              "3                       0     0  \n",
              "4                       0     0  \n",
              "5                       0     0  \n",
              "6                       1     0  \n",
              "\n",
              "[5 rows x 444 columns]"
            ],
            "text/html": [
              "\n",
              "  <div id=\"df-819fcc16-30fb-482d-8985-5500437d1c2a\">\n",
              "    <div class=\"colab-df-container\">\n",
              "      <div>\n",
              "<style scoped>\n",
              "    .dataframe tbody tr th:only-of-type {\n",
              "        vertical-align: middle;\n",
              "    }\n",
              "\n",
              "    .dataframe tbody tr th {\n",
              "        vertical-align: top;\n",
              "    }\n",
              "\n",
              "    .dataframe thead th {\n",
              "        text-align: right;\n",
              "    }\n",
              "</style>\n",
              "<table border=\"1\" class=\"dataframe\">\n",
              "  <thead>\n",
              "    <tr style=\"text-align: right;\">\n",
              "      <th></th>\n",
              "      <th>is_recid</th>\n",
              "      <th>sex</th>\n",
              "      <th>age</th>\n",
              "      <th>priors_count</th>\n",
              "      <th>c_charge_degree</th>\n",
              "      <th>c_jail_time</th>\n",
              "      <th>Abuse Without Great Harm</th>\n",
              "      <th>Accessory After the Fact</th>\n",
              "      <th>Agg Abuse Elderlly/Disabled Adult</th>\n",
              "      <th>Agg Assault Law Enforc Officer</th>\n",
              "      <th>...</th>\n",
              "      <th>Viol Injunct Domestic Violence</th>\n",
              "      <th>Viol Injunction Protect Dom Vi</th>\n",
              "      <th>Viol Pretrial Release Dom Viol</th>\n",
              "      <th>Viol Prot Injunc Repeat Viol</th>\n",
              "      <th>Violation License Restrictions</th>\n",
              "      <th>Violation Of Boater Safety Id</th>\n",
              "      <th>Violation of Injunction Order/Stalking/Cyberstalking</th>\n",
              "      <th>Voyeurism</th>\n",
              "      <th>arrest case no charge</th>\n",
              "      <th>none</th>\n",
              "    </tr>\n",
              "    <tr>\n",
              "      <th>id</th>\n",
              "      <th></th>\n",
              "      <th></th>\n",
              "      <th></th>\n",
              "      <th></th>\n",
              "      <th></th>\n",
              "      <th></th>\n",
              "      <th></th>\n",
              "      <th></th>\n",
              "      <th></th>\n",
              "      <th></th>\n",
              "      <th></th>\n",
              "      <th></th>\n",
              "      <th></th>\n",
              "      <th></th>\n",
              "      <th></th>\n",
              "      <th></th>\n",
              "      <th></th>\n",
              "      <th></th>\n",
              "      <th></th>\n",
              "      <th></th>\n",
              "      <th></th>\n",
              "    </tr>\n",
              "  </thead>\n",
              "  <tbody>\n",
              "    <tr>\n",
              "      <th>1</th>\n",
              "      <td>0</td>\n",
              "      <td>1</td>\n",
              "      <td>69</td>\n",
              "      <td>0</td>\n",
              "      <td>1</td>\n",
              "      <td>1.0</td>\n",
              "      <td>0</td>\n",
              "      <td>0</td>\n",
              "      <td>0</td>\n",
              "      <td>0</td>\n",
              "      <td>...</td>\n",
              "      <td>0</td>\n",
              "      <td>0</td>\n",
              "      <td>0</td>\n",
              "      <td>0</td>\n",
              "      <td>0</td>\n",
              "      <td>0</td>\n",
              "      <td>0</td>\n",
              "      <td>0</td>\n",
              "      <td>0</td>\n",
              "      <td>0</td>\n",
              "    </tr>\n",
              "    <tr>\n",
              "      <th>3</th>\n",
              "      <td>1</td>\n",
              "      <td>1</td>\n",
              "      <td>34</td>\n",
              "      <td>0</td>\n",
              "      <td>1</td>\n",
              "      <td>10.0</td>\n",
              "      <td>0</td>\n",
              "      <td>0</td>\n",
              "      <td>0</td>\n",
              "      <td>0</td>\n",
              "      <td>...</td>\n",
              "      <td>0</td>\n",
              "      <td>0</td>\n",
              "      <td>0</td>\n",
              "      <td>0</td>\n",
              "      <td>0</td>\n",
              "      <td>0</td>\n",
              "      <td>0</td>\n",
              "      <td>0</td>\n",
              "      <td>0</td>\n",
              "      <td>0</td>\n",
              "    </tr>\n",
              "    <tr>\n",
              "      <th>4</th>\n",
              "      <td>1</td>\n",
              "      <td>1</td>\n",
              "      <td>24</td>\n",
              "      <td>4</td>\n",
              "      <td>1</td>\n",
              "      <td>1.0</td>\n",
              "      <td>0</td>\n",
              "      <td>0</td>\n",
              "      <td>0</td>\n",
              "      <td>0</td>\n",
              "      <td>...</td>\n",
              "      <td>0</td>\n",
              "      <td>0</td>\n",
              "      <td>0</td>\n",
              "      <td>0</td>\n",
              "      <td>0</td>\n",
              "      <td>0</td>\n",
              "      <td>0</td>\n",
              "      <td>0</td>\n",
              "      <td>0</td>\n",
              "      <td>0</td>\n",
              "    </tr>\n",
              "    <tr>\n",
              "      <th>5</th>\n",
              "      <td>0</td>\n",
              "      <td>1</td>\n",
              "      <td>23</td>\n",
              "      <td>1</td>\n",
              "      <td>1</td>\n",
              "      <td>0.0</td>\n",
              "      <td>0</td>\n",
              "      <td>0</td>\n",
              "      <td>0</td>\n",
              "      <td>0</td>\n",
              "      <td>...</td>\n",
              "      <td>0</td>\n",
              "      <td>0</td>\n",
              "      <td>0</td>\n",
              "      <td>0</td>\n",
              "      <td>0</td>\n",
              "      <td>0</td>\n",
              "      <td>0</td>\n",
              "      <td>0</td>\n",
              "      <td>0</td>\n",
              "      <td>0</td>\n",
              "    </tr>\n",
              "    <tr>\n",
              "      <th>6</th>\n",
              "      <td>0</td>\n",
              "      <td>1</td>\n",
              "      <td>43</td>\n",
              "      <td>2</td>\n",
              "      <td>1</td>\n",
              "      <td>0.0</td>\n",
              "      <td>0</td>\n",
              "      <td>0</td>\n",
              "      <td>0</td>\n",
              "      <td>0</td>\n",
              "      <td>...</td>\n",
              "      <td>0</td>\n",
              "      <td>0</td>\n",
              "      <td>0</td>\n",
              "      <td>0</td>\n",
              "      <td>0</td>\n",
              "      <td>0</td>\n",
              "      <td>0</td>\n",
              "      <td>0</td>\n",
              "      <td>1</td>\n",
              "      <td>0</td>\n",
              "    </tr>\n",
              "  </tbody>\n",
              "</table>\n",
              "<p>5 rows × 444 columns</p>\n",
              "</div>\n",
              "      <button class=\"colab-df-convert\" onclick=\"convertToInteractive('df-819fcc16-30fb-482d-8985-5500437d1c2a')\"\n",
              "              title=\"Convert this dataframe to an interactive table.\"\n",
              "              style=\"display:none;\">\n",
              "        \n",
              "  <svg xmlns=\"http://www.w3.org/2000/svg\" height=\"24px\"viewBox=\"0 0 24 24\"\n",
              "       width=\"24px\">\n",
              "    <path d=\"M0 0h24v24H0V0z\" fill=\"none\"/>\n",
              "    <path d=\"M18.56 5.44l.94 2.06.94-2.06 2.06-.94-2.06-.94-.94-2.06-.94 2.06-2.06.94zm-11 1L8.5 8.5l.94-2.06 2.06-.94-2.06-.94L8.5 2.5l-.94 2.06-2.06.94zm10 10l.94 2.06.94-2.06 2.06-.94-2.06-.94-.94-2.06-.94 2.06-2.06.94z\"/><path d=\"M17.41 7.96l-1.37-1.37c-.4-.4-.92-.59-1.43-.59-.52 0-1.04.2-1.43.59L10.3 9.45l-7.72 7.72c-.78.78-.78 2.05 0 2.83L4 21.41c.39.39.9.59 1.41.59.51 0 1.02-.2 1.41-.59l7.78-7.78 2.81-2.81c.8-.78.8-2.07 0-2.86zM5.41 20L4 18.59l7.72-7.72 1.47 1.35L5.41 20z\"/>\n",
              "  </svg>\n",
              "      </button>\n",
              "      \n",
              "  <style>\n",
              "    .colab-df-container {\n",
              "      display:flex;\n",
              "      flex-wrap:wrap;\n",
              "      gap: 12px;\n",
              "    }\n",
              "\n",
              "    .colab-df-convert {\n",
              "      background-color: #E8F0FE;\n",
              "      border: none;\n",
              "      border-radius: 50%;\n",
              "      cursor: pointer;\n",
              "      display: none;\n",
              "      fill: #1967D2;\n",
              "      height: 32px;\n",
              "      padding: 0 0 0 0;\n",
              "      width: 32px;\n",
              "    }\n",
              "\n",
              "    .colab-df-convert:hover {\n",
              "      background-color: #E2EBFA;\n",
              "      box-shadow: 0px 1px 2px rgba(60, 64, 67, 0.3), 0px 1px 3px 1px rgba(60, 64, 67, 0.15);\n",
              "      fill: #174EA6;\n",
              "    }\n",
              "\n",
              "    [theme=dark] .colab-df-convert {\n",
              "      background-color: #3B4455;\n",
              "      fill: #D2E3FC;\n",
              "    }\n",
              "\n",
              "    [theme=dark] .colab-df-convert:hover {\n",
              "      background-color: #434B5C;\n",
              "      box-shadow: 0px 1px 3px 1px rgba(0, 0, 0, 0.15);\n",
              "      filter: drop-shadow(0px 1px 2px rgba(0, 0, 0, 0.3));\n",
              "      fill: #FFFFFF;\n",
              "    }\n",
              "  </style>\n",
              "\n",
              "      <script>\n",
              "        const buttonEl =\n",
              "          document.querySelector('#df-819fcc16-30fb-482d-8985-5500437d1c2a button.colab-df-convert');\n",
              "        buttonEl.style.display =\n",
              "          google.colab.kernel.accessAllowed ? 'block' : 'none';\n",
              "\n",
              "        async function convertToInteractive(key) {\n",
              "          const element = document.querySelector('#df-819fcc16-30fb-482d-8985-5500437d1c2a');\n",
              "          const dataTable =\n",
              "            await google.colab.kernel.invokeFunction('convertToInteractive',\n",
              "                                                     [key], {});\n",
              "          if (!dataTable) return;\n",
              "\n",
              "          const docLinkHtml = 'Like what you see? Visit the ' +\n",
              "            '<a target=\"_blank\" href=https://colab.research.google.com/notebooks/data_table.ipynb>data table notebook</a>'\n",
              "            + ' to learn more about interactive tables.';\n",
              "          element.innerHTML = '';\n",
              "          dataTable['output_type'] = 'display_data';\n",
              "          await google.colab.output.renderOutput(dataTable, element);\n",
              "          const docLink = document.createElement('div');\n",
              "          docLink.innerHTML = docLinkHtml;\n",
              "          element.appendChild(docLink);\n",
              "        }\n",
              "      </script>\n",
              "    </div>\n",
              "  </div>\n",
              "  "
            ]
          },
          "metadata": {},
          "execution_count": 14
        }
      ]
    },
    {
      "cell_type": "code",
      "source": [
        "columns = df2.columns.tolist()\n",
        "print(columns)\n",
        "features = columns[2:]\n",
        "targets = columns[:2]\n",
        "print(features)\n",
        "print(targets)"
      ],
      "metadata": {
        "colab": {
          "base_uri": "https://localhost:8080/"
        },
        "id": "ZLgyRi4d4cWC",
        "outputId": "2a5cd453-77e8-4c89-e8b7-d191344f15b6"
      },
      "execution_count": null,
      "outputs": [
        {
          "output_type": "stream",
          "name": "stdout",
          "text": [
            "['is_recid', 'sex', 'age', 'priors_count', 'c_charge_degree', 'c_jail_time', 'Abuse Without Great Harm', 'Accessory After the Fact', 'Agg Abuse Elderlly/Disabled Adult', 'Agg Assault Law Enforc Officer', 'Agg Assault W/int Com Fel Dome', 'Agg Battery Grt/Bod/Harm', 'Agg Fleeing and Eluding', 'Agg Fleeing/Eluding High Speed', 'Aggr Child Abuse-Torture,Punish', 'Aggrav Battery w/Deadly Weapon', 'Aggrav Child Abuse-Agg Battery', 'Aggrav Child Abuse-Causes Harm', 'Aggrav Stalking After Injunctn', 'Aggravated Assault', 'Aggravated Assault W/Dead Weap', 'Aggravated Assault W/dead Weap', 'Aggravated Assault W/o Firearm', 'Aggravated Assault w/Firearm', 'Aggravated Battery', 'Aggravated Battery (Firearm)', 'Aggravated Battery (Firearm/Actual Possession)', 'Aggravated Battery / Pregnant', 'Aggravated Battery On 65/Older', 'Aggress/Panhandle/Beg/Solict', 'Aide/Abet Prostitution Lewdness', 'Aiding Escape', 'Alcoholic Beverage Violation-FL', 'Armed Trafficking in Cannabis', 'Arson II (Vehicle)', 'Arson in the First Degree', 'Assault', 'Assault Law Enforcement Officer', 'Att Burgl Conv Occp', 'Att Burgl Struc/Conv Dwel/Occp', 'Att Burgl Unoccupied Dwel', 'Att Tamper w/Physical Evidence', 'Attempt Armed Burglary Dwell', 'Attempt Burglary (Struct)', 'Attempted Burg/Convey/Unocc', 'Attempted Burg/struct/unocc', 'Attempted Deliv Control Subst', 'Attempted Robbery  No Weapon', 'Attempted Robbery  Weapon', 'Attempted Robbery Firearm', 'Battery', 'Battery Emergency Care Provide', 'Battery On A Person Over 65', 'Battery On Fire Fighter', 'Battery On Parking Enfor Speci', 'Battery Spouse Or Girlfriend', 'Battery on Law Enforc Officer', 'Battery on a Person Over 65', 'Bribery Athletic Contests', 'Burgl Dwel/Struct/Convey Armed', 'Burglary Assault/Battery Armed', 'Burglary Conveyance Armed', 'Burglary Conveyance Assault/Bat', 'Burglary Conveyance Occupied', 'Burglary Conveyance Unoccup', 'Burglary Dwelling Armed', 'Burglary Dwelling Assault/Batt', 'Burglary Dwelling Occupied', 'Burglary Structure Assault/Batt', 'Burglary Structure Occupied', 'Burglary Structure Unoccup', 'Burglary Unoccupied Dwelling', 'Burglary With Assault/battery', 'Carjacking w/o Deadly Weapon', 'Carjacking with a Firearm', 'Carry Open/Uncov Bev In Pub', 'Carrying A Concealed Weapon', 'Carrying Concealed Firearm', 'Cash Item w/Intent to Defraud', 'Cause Anoth Phone Ring Repeat', 'Child Abuse', 'Compulsory Attendance Violation', 'Compulsory Sch Attnd Violation', 'Computer Pornography', 'Consp Traff Oxycodone  4g><14g', 'Consp Traff Oxycodone 28g><30k', 'Conspiracy Dealing Stolen Prop', 'Conspiracy to Deliver Cocaine', 'Consume Alcoholic Bev Pub', 'Contradict Statement', 'Contribute Delinquency Of A Minor', 'Corrupt Public Servant', 'Counterfeit Lic Plates/Sticker', 'Crim Attempt/Solic/Consp', 'Crim Attempt/Solicit/Consp', 'Crim Use Of Personal Id Info', 'Crim Use of Personal ID Info', 'Crimin Mischief Damage $1000+', 'Criminal Attempt 3rd Deg Felon', 'Criminal Mischief', 'Criminal Mischief Damage <$200', 'Criminal Mischief>$200<$1000', 'Crlty Twrd Child Urge Oth Act', 'Cruelty Toward Child', 'Cruelty to Animals', 'Culpable Negligence', 'D.U.I. Serious Bodily Injury', 'DOC/Cause Public Danger', 'DUI - Enhanced', 'DUI - Property Damage/Personal Injury', 'DUI Blood Alcohol Above 0.20', 'DUI Level 0.15 Or Minor In Veh', 'DUI Property Damage/Injury', 'DUI- Enhanced', 'DUI/Property Damage/Persnl Inj', 'DWI w/Inj Susp Lic / Habit Off', 'DWLS Canceled Disqul 1st Off', 'DWLS Susp/Cancel Revoked', 'Dealing In Stolen Property', 'Dealing in Stolen Property', 'Defrauding Innkeeper', 'Defrauding Innkeeper $300/More', 'Del 3,4 Methylenedioxymethcath', 'Del Cannabis At/Near Park', 'Del Cannabis For Consideration', 'Del Morphine at/near Park', 'Del of JWH-250 2-Methox 1-Pentyl', 'Deliver 3,4 Methylenediox', 'Deliver Alprazolam', 'Deliver Cannabis', 'Deliver Cannabis 1000FTSch', 'Deliver Cocaine', 'Deliver Cocaine 1000FT Church', 'Deliver Cocaine 1000FT Park', 'Deliver Cocaine 1000FT School', 'Deliver Cocaine 1000FT Store', 'Delivery Of Drug Paraphernalia', 'Delivery of 5-Fluoro PB-22', 'Delivery of Heroin', 'Depriv LEO of Protect/Communic', 'Discharge Firearm From Vehicle', 'Disorderly Conduct', 'Disorderly Intoxication', 'Disrupting School Function', 'Drivg While Lic Suspd/Revk/Can', 'Driving License Suspended', 'Driving Under The Influence', 'Driving While License Revoked', 'Escape', 'Exhibition Weapon School Prop', 'Expired DL More Than 6 Months', 'Exploit Elderly Person 20-100K', 'Exposes Culpable Negligence', 'Extradition/Defendants', 'Fabricating Physical Evidence', 'Fail Obey Driv Lic Restrictions', 'Fail Register Career Offender', 'Fail Register Vehicle', 'Fail Sex Offend Report Bylaw', 'Fail To Obey Police Officer', 'Fail To Redeliv Hire/Leas Prop', 'Fail To Redeliver Hire Prop', 'Fail To Secure Load', 'Failure To Pay Taxi Cab Charge', 'Failure To Return Hired Vehicle', 'False 911 Call', 'False Bomb Report', 'False Imprisonment', 'False Info LEO During Invest', 'False Motor Veh Insurance Card', 'False Name By Person Arrest', 'False Ownership Info/Pawn Item', 'Falsely Impersonating Officer', 'Fel Drive License Perm Revoke', 'Felon in Pos of Firearm or Amm', 'Felony Batt(Great Bodily Harm)', 'Felony Battery', 'Felony Battery (Dom Strang)', 'Felony Battery w/Prior Convict', 'Felony Committing Prostitution', 'Felony DUI (level 3)', 'Felony DUI - Enhanced', 'Felony Driving While Lic Suspd', 'Felony Petit Theft', 'Felony/Driving Under Influence', 'Fighting/Baiting Animals', 'Flee/Elude LEO-Agg Flee Unsafe', 'Fleeing Or Attmp Eluding A Leo', 'Fleeing or Eluding a LEO', 'Forging Bank Bills/Promis Note', 'Fraud Obtain Food or Lodging', 'Fraudulent Use of Credit Card', 'Gambling/Gamb Paraphernalia', 'Giving False Crime Report', 'Grand Theft (Motor Vehicle)', 'Grand Theft (motor Vehicle)', 'Grand Theft Dwell Property', 'Grand Theft Firearm', 'Grand Theft In The 3Rd Degree', 'Grand Theft in the 1st Degree', 'Grand Theft in the 3rd Degree', 'Grand Theft of a Fire Extinquisher', 'Grand Theft of the 2nd Degree', 'Grand Theft on 65 Yr or Older', 'Harass Witness/Victm/Informnt', 'Harm Public Servant Or Family', 'Hiring with Intent to Defraud', 'Imperson Public Officer or Emplyee', 'Insurance Fraud', 'Interfere W/Traf Cont Dev RR', 'Interference with Custody', 'Intoxicated/Safety Of Another', 'Introduce Contraband Into Jail', 'Issuing a Worthless Draft', 'Kidnapping / Domestic Violence', 'Lease For Purpose Trafficking', 'Leave Acc/Attend Veh/More $50', 'Leave Accd/Attend Veh/Less $50', 'Leaving Acc/Unattended Veh', 'Leaving the Scene of Accident', 'Lewd Act Presence Child 16-', 'Lewd or Lascivious Molestation', 'Lewd/Lasc Battery Pers 12+/<16', 'Lewd/Lasc Exhib Presence <16yr', 'Lewd/Lasciv Molest Elder Persn', 'Lewdness Violation', 'License Suspended Revoked', 'Littering', 'Live on Earnings of Prostitute', 'Lve/Scen/Acc/Veh/Prop/Damage', 'Manage Busn W/O City Occup Lic', 'Manslaughter W/Weapon/Firearm', 'Manufacture Cannabis', 'Misuse Of 911 Or E911 System', 'Money Launder 100K or More Dols', 'Murder In 2nd Degree W/firearm', 'Murder in 2nd Degree', 'Murder in the First Degree', 'Neglect Child / Bodily Harm', 'Neglect Child / No Bodily Harm', 'Neglect/Abuse Elderly Person', 'Obstruct Fire Equipment', 'Obstruct Officer W/Violence', 'Obtain Control Substance By Fraud', 'Offer Agree Secure For Lewd Act', 'Offer Agree Secure/Lewd Act', 'Offn Against Intellectual Prop', 'Open Carrying Of Weapon', 'Oper Motorcycle W/O Valid DL', 'Operating W/O Valid License', 'Opert With Susp DL 2ND Offense', 'Opert With Susp DL 2nd Offens', 'PL/Unlaw Use Credit Card', 'Petit Theft', 'Petit Theft $100- $300', 'Pos Cannabis For Consideration', 'Pos Cannabis W/Intent Sel/Del', 'Pos Methylenedioxymethcath W/I/D/S', 'Poss 3,4 MDMA (Ecstasy)', 'Poss Alprazolam W/int Sell/Del', 'Poss Anti-Shoplifting Device', 'Poss Cntrft Contr Sub w/Intent', 'Poss Cocaine/Intent To Del/Sel', 'Poss Contr Subst W/o Prescript', 'Poss Counterfeit Payment Inst', 'Poss Drugs W/O A Prescription', 'Poss F/Arm Delinq', 'Poss Firearm W/Altered ID#', 'Poss Meth/Diox/Meth/Amp (MDMA)', 'Poss Of 1,4-Butanediol', 'Poss Of Controlled Substance', 'Poss Of RX Without RX', 'Poss Oxycodone W/Int/Sell/Del', 'Poss Pyrrolidinobutiophenone', 'Poss Pyrrolidinovalerophenone', 'Poss Pyrrolidinovalerophenone W/I/D/S', 'Poss Similitude of Drivers Lic', 'Poss Tetrahydrocannabinols', 'Poss Trifluoromethylphenylpipe', 'Poss Unlaw Issue Driver Licenc', 'Poss Unlaw Issue Id', 'Poss Wep Conv Felon', 'Poss of Cocaine W/I/D/S 1000FT Park', 'Poss of Firearm by Convic Felo', 'Poss of Methylethcathinone', 'Poss of Vessel w/Altered ID NO', 'Poss/Sell/Del Cocaine 1000FT Sch', 'Poss/Sell/Del/Man Amobarbital', 'Poss/Sell/Deliver Clonazepam', 'Poss/pur/sell/deliver Cocaine', 'Poss3,4 Methylenedioxymethcath', 'Posses/Disply Susp/Revk/Frd DL', 'Possess Cannabis 1000FTSch', 'Possess Cannabis/20 Grams Or Less', 'Possess Controlled Substance', 'Possess Countrfeit Credit Card', 'Possess Drug Paraphernalia', 'Possess Mot Veh W/Alt Vin #', 'Possess Tobacco Product Under 18', 'Possess Weapon On School Prop', 'Possess w/I/Utter Forged Bills', 'Possess/Use Weapon 1 Deg Felon', 'Possession Burglary Tools', 'Possession Child Pornography', 'Possession Firearm School Prop', 'Possession Of 3,4Methylenediox', 'Possession Of Alprazolam', 'Possession Of Amphetamine', 'Possession Of Anabolic Steroid', 'Possession Of Buprenorphine', 'Possession Of Carisoprodol', 'Possession Of Clonazepam', 'Possession Of Cocaine', 'Possession Of Diazepam', 'Possession Of Fentanyl', 'Possession Of Heroin', 'Possession Of Lorazepam', 'Possession Of Methamphetamine', 'Possession Of Paraphernalia', 'Possession Of Phentermine', 'Possession of Alcohol Under 21', 'Possession of Benzylpiperazine', 'Possession of Butylone', 'Possession of Cannabis', 'Possession of Cocaine', 'Possession of Codeine', 'Possession of Ethylone', 'Possession of Hydrocodone', 'Possession of Hydromorphone', 'Possession of LSD', 'Possession of Methadone', 'Possession of Morphine', 'Possession of Oxycodone', 'Possession of XLR11', 'Present Proof of Invalid Insur', 'Principal In The First Degree', 'Prostitution', 'Prostitution/Lewd Act Assignation', 'Prostitution/Lewdness/Assign', 'Prowling/Loitering', 'Purchase Cannabis', 'Purchase Of Cocaine', 'Purchase/P/W/Int Cannabis', 'Purchasing Of Alprazolam', 'Reckless Driving', 'Refuse Submit Blood/Breath Test', 'Refuse to Supply DNA Sample', 'Resist Officer w/Violence', 'Resist/Obstruct W/O Violence', 'Restraining Order Dating Viol', 'Retail Theft $300 1st Offense', 'Retail Theft $300 2nd Offense', 'Ride Tri-Rail Without Paying', 'Robbery / No Weapon', 'Robbery / Weapon', 'Robbery Sudd Snatch No Weapon', 'Robbery W/Deadly Weapon', 'Robbery W/Firearm', 'Sale/Del Cannabis At/Near Scho', 'Sale/Del Counterfeit Cont Subs', 'Sel Etc/Pos/w/Int Contrft Schd', 'Sel/Pur/Mfr/Del Control Substa', 'Sell Cannabis', 'Sell Conterfeit Cont Substance', 'Sell or Offer for Sale Counterfeit Goods', 'Sell/Man/Del Pos/w/int Heroin', 'Sex Batt Faml/Cust Vict 12-17Y', 'Sex Battery Deft 18+/Vict 11-', 'Sex Offender Fail Comply W/Law', 'Sexual Battery / Vict 12 Yrs +', 'Sexual Performance by a Child', 'Shoot In Occupied Dwell', 'Shoot Into Vehicle', 'Simulation of Legal Process', 'Solic to Commit Battery', 'Solicit Deliver Cocaine', 'Solicit Purchase Cocaine', 'Solicit To Deliver Cocaine', 'Solicitation On Felony 3 Deg', 'Soliciting For Prostitution', 'Sound Articles Over 100', 'Stalking', 'Stalking (Aggravated)', 'Strong Armed  Robbery', 'Structuring Transactions', 'Susp Drivers Lic 1st Offense', 'Tamper With Victim', 'Tamper With Witness', 'Tamper With Witness/Victim/CI', 'Tampering With Physical Evidence', 'Tampering with a Victim', 'Theft', 'Theft/To Deprive', 'Threat Public Servant', 'Throw Deadly Missile Into Veh', 'Throw In Occupied Dwell', 'Throw Missile Into Pub/Priv Dw', 'Traff In Cocaine <400g>150 Kil', 'Traffic Counterfeit Cred Cards', 'Traffick Amphetamine 28g><200g', 'Traffick Hydrocodone   4g><14g', 'Traffick Oxycodone     4g><14g', 'Trans/Harm/Material to a Minor', 'Trespass On School Grounds', 'Trespass Other Struct/Conve', 'Trespass Private Property', 'Trespass Property w/Dang Weap', 'Trespass Struct/Convey Occupy', 'Trespass Struct/Conveyance', 'Trespass Structure w/Dang Weap', 'Trespass Structure/Conveyance', 'Trespassing/Construction Site', 'Tresspass Struct/Conveyance', 'Tresspass in Structure or Conveyance', 'Unauth C/P/S Sounds>1000/Audio', 'Unauth Poss ID Card or DL', 'Unauthorized Interf w/Railroad', 'Unemployment Compensatn Fraud', 'Unl/Disturb Education/Instui', 'Unlaw Lic Use/Disply Of Others', 'Unlaw LicTag/Sticker Attach', 'Unlaw Use False Name/Identity', 'Unlawful Conveyance of Fuel', 'Unlawful Use Of Police Badges', 'Unlicensed Telemarketing', 'Use Computer for Child Exploit', 'Use Of 2 Way Device To Fac Fel', 'Use Scanning Device to Defraud', 'Use of Anti-Shoplifting Device', 'Uttering Forged Bills', 'Uttering Forged Credit Card', 'Uttering Worthless Check +$150', 'Uttering a Forged Instrument', 'Video Voyeur-<24Y on Child >16', 'Viol Injunct Domestic Violence', 'Viol Injunction Protect Dom Vi', 'Viol Pretrial Release Dom Viol', 'Viol Prot Injunc Repeat Viol', 'Violation License Restrictions', 'Violation Of Boater Safety Id', 'Violation of Injunction Order/Stalking/Cyberstalking', 'Voyeurism', 'arrest case no charge', 'none']\n",
            "['age', 'priors_count', 'c_charge_degree', 'c_jail_time', 'Abuse Without Great Harm', 'Accessory After the Fact', 'Agg Abuse Elderlly/Disabled Adult', 'Agg Assault Law Enforc Officer', 'Agg Assault W/int Com Fel Dome', 'Agg Battery Grt/Bod/Harm', 'Agg Fleeing and Eluding', 'Agg Fleeing/Eluding High Speed', 'Aggr Child Abuse-Torture,Punish', 'Aggrav Battery w/Deadly Weapon', 'Aggrav Child Abuse-Agg Battery', 'Aggrav Child Abuse-Causes Harm', 'Aggrav Stalking After Injunctn', 'Aggravated Assault', 'Aggravated Assault W/Dead Weap', 'Aggravated Assault W/dead Weap', 'Aggravated Assault W/o Firearm', 'Aggravated Assault w/Firearm', 'Aggravated Battery', 'Aggravated Battery (Firearm)', 'Aggravated Battery (Firearm/Actual Possession)', 'Aggravated Battery / Pregnant', 'Aggravated Battery On 65/Older', 'Aggress/Panhandle/Beg/Solict', 'Aide/Abet Prostitution Lewdness', 'Aiding Escape', 'Alcoholic Beverage Violation-FL', 'Armed Trafficking in Cannabis', 'Arson II (Vehicle)', 'Arson in the First Degree', 'Assault', 'Assault Law Enforcement Officer', 'Att Burgl Conv Occp', 'Att Burgl Struc/Conv Dwel/Occp', 'Att Burgl Unoccupied Dwel', 'Att Tamper w/Physical Evidence', 'Attempt Armed Burglary Dwell', 'Attempt Burglary (Struct)', 'Attempted Burg/Convey/Unocc', 'Attempted Burg/struct/unocc', 'Attempted Deliv Control Subst', 'Attempted Robbery  No Weapon', 'Attempted Robbery  Weapon', 'Attempted Robbery Firearm', 'Battery', 'Battery Emergency Care Provide', 'Battery On A Person Over 65', 'Battery On Fire Fighter', 'Battery On Parking Enfor Speci', 'Battery Spouse Or Girlfriend', 'Battery on Law Enforc Officer', 'Battery on a Person Over 65', 'Bribery Athletic Contests', 'Burgl Dwel/Struct/Convey Armed', 'Burglary Assault/Battery Armed', 'Burglary Conveyance Armed', 'Burglary Conveyance Assault/Bat', 'Burglary Conveyance Occupied', 'Burglary Conveyance Unoccup', 'Burglary Dwelling Armed', 'Burglary Dwelling Assault/Batt', 'Burglary Dwelling Occupied', 'Burglary Structure Assault/Batt', 'Burglary Structure Occupied', 'Burglary Structure Unoccup', 'Burglary Unoccupied Dwelling', 'Burglary With Assault/battery', 'Carjacking w/o Deadly Weapon', 'Carjacking with a Firearm', 'Carry Open/Uncov Bev In Pub', 'Carrying A Concealed Weapon', 'Carrying Concealed Firearm', 'Cash Item w/Intent to Defraud', 'Cause Anoth Phone Ring Repeat', 'Child Abuse', 'Compulsory Attendance Violation', 'Compulsory Sch Attnd Violation', 'Computer Pornography', 'Consp Traff Oxycodone  4g><14g', 'Consp Traff Oxycodone 28g><30k', 'Conspiracy Dealing Stolen Prop', 'Conspiracy to Deliver Cocaine', 'Consume Alcoholic Bev Pub', 'Contradict Statement', 'Contribute Delinquency Of A Minor', 'Corrupt Public Servant', 'Counterfeit Lic Plates/Sticker', 'Crim Attempt/Solic/Consp', 'Crim Attempt/Solicit/Consp', 'Crim Use Of Personal Id Info', 'Crim Use of Personal ID Info', 'Crimin Mischief Damage $1000+', 'Criminal Attempt 3rd Deg Felon', 'Criminal Mischief', 'Criminal Mischief Damage <$200', 'Criminal Mischief>$200<$1000', 'Crlty Twrd Child Urge Oth Act', 'Cruelty Toward Child', 'Cruelty to Animals', 'Culpable Negligence', 'D.U.I. Serious Bodily Injury', 'DOC/Cause Public Danger', 'DUI - Enhanced', 'DUI - Property Damage/Personal Injury', 'DUI Blood Alcohol Above 0.20', 'DUI Level 0.15 Or Minor In Veh', 'DUI Property Damage/Injury', 'DUI- Enhanced', 'DUI/Property Damage/Persnl Inj', 'DWI w/Inj Susp Lic / Habit Off', 'DWLS Canceled Disqul 1st Off', 'DWLS Susp/Cancel Revoked', 'Dealing In Stolen Property', 'Dealing in Stolen Property', 'Defrauding Innkeeper', 'Defrauding Innkeeper $300/More', 'Del 3,4 Methylenedioxymethcath', 'Del Cannabis At/Near Park', 'Del Cannabis For Consideration', 'Del Morphine at/near Park', 'Del of JWH-250 2-Methox 1-Pentyl', 'Deliver 3,4 Methylenediox', 'Deliver Alprazolam', 'Deliver Cannabis', 'Deliver Cannabis 1000FTSch', 'Deliver Cocaine', 'Deliver Cocaine 1000FT Church', 'Deliver Cocaine 1000FT Park', 'Deliver Cocaine 1000FT School', 'Deliver Cocaine 1000FT Store', 'Delivery Of Drug Paraphernalia', 'Delivery of 5-Fluoro PB-22', 'Delivery of Heroin', 'Depriv LEO of Protect/Communic', 'Discharge Firearm From Vehicle', 'Disorderly Conduct', 'Disorderly Intoxication', 'Disrupting School Function', 'Drivg While Lic Suspd/Revk/Can', 'Driving License Suspended', 'Driving Under The Influence', 'Driving While License Revoked', 'Escape', 'Exhibition Weapon School Prop', 'Expired DL More Than 6 Months', 'Exploit Elderly Person 20-100K', 'Exposes Culpable Negligence', 'Extradition/Defendants', 'Fabricating Physical Evidence', 'Fail Obey Driv Lic Restrictions', 'Fail Register Career Offender', 'Fail Register Vehicle', 'Fail Sex Offend Report Bylaw', 'Fail To Obey Police Officer', 'Fail To Redeliv Hire/Leas Prop', 'Fail To Redeliver Hire Prop', 'Fail To Secure Load', 'Failure To Pay Taxi Cab Charge', 'Failure To Return Hired Vehicle', 'False 911 Call', 'False Bomb Report', 'False Imprisonment', 'False Info LEO During Invest', 'False Motor Veh Insurance Card', 'False Name By Person Arrest', 'False Ownership Info/Pawn Item', 'Falsely Impersonating Officer', 'Fel Drive License Perm Revoke', 'Felon in Pos of Firearm or Amm', 'Felony Batt(Great Bodily Harm)', 'Felony Battery', 'Felony Battery (Dom Strang)', 'Felony Battery w/Prior Convict', 'Felony Committing Prostitution', 'Felony DUI (level 3)', 'Felony DUI - Enhanced', 'Felony Driving While Lic Suspd', 'Felony Petit Theft', 'Felony/Driving Under Influence', 'Fighting/Baiting Animals', 'Flee/Elude LEO-Agg Flee Unsafe', 'Fleeing Or Attmp Eluding A Leo', 'Fleeing or Eluding a LEO', 'Forging Bank Bills/Promis Note', 'Fraud Obtain Food or Lodging', 'Fraudulent Use of Credit Card', 'Gambling/Gamb Paraphernalia', 'Giving False Crime Report', 'Grand Theft (Motor Vehicle)', 'Grand Theft (motor Vehicle)', 'Grand Theft Dwell Property', 'Grand Theft Firearm', 'Grand Theft In The 3Rd Degree', 'Grand Theft in the 1st Degree', 'Grand Theft in the 3rd Degree', 'Grand Theft of a Fire Extinquisher', 'Grand Theft of the 2nd Degree', 'Grand Theft on 65 Yr or Older', 'Harass Witness/Victm/Informnt', 'Harm Public Servant Or Family', 'Hiring with Intent to Defraud', 'Imperson Public Officer or Emplyee', 'Insurance Fraud', 'Interfere W/Traf Cont Dev RR', 'Interference with Custody', 'Intoxicated/Safety Of Another', 'Introduce Contraband Into Jail', 'Issuing a Worthless Draft', 'Kidnapping / Domestic Violence', 'Lease For Purpose Trafficking', 'Leave Acc/Attend Veh/More $50', 'Leave Accd/Attend Veh/Less $50', 'Leaving Acc/Unattended Veh', 'Leaving the Scene of Accident', 'Lewd Act Presence Child 16-', 'Lewd or Lascivious Molestation', 'Lewd/Lasc Battery Pers 12+/<16', 'Lewd/Lasc Exhib Presence <16yr', 'Lewd/Lasciv Molest Elder Persn', 'Lewdness Violation', 'License Suspended Revoked', 'Littering', 'Live on Earnings of Prostitute', 'Lve/Scen/Acc/Veh/Prop/Damage', 'Manage Busn W/O City Occup Lic', 'Manslaughter W/Weapon/Firearm', 'Manufacture Cannabis', 'Misuse Of 911 Or E911 System', 'Money Launder 100K or More Dols', 'Murder In 2nd Degree W/firearm', 'Murder in 2nd Degree', 'Murder in the First Degree', 'Neglect Child / Bodily Harm', 'Neglect Child / No Bodily Harm', 'Neglect/Abuse Elderly Person', 'Obstruct Fire Equipment', 'Obstruct Officer W/Violence', 'Obtain Control Substance By Fraud', 'Offer Agree Secure For Lewd Act', 'Offer Agree Secure/Lewd Act', 'Offn Against Intellectual Prop', 'Open Carrying Of Weapon', 'Oper Motorcycle W/O Valid DL', 'Operating W/O Valid License', 'Opert With Susp DL 2ND Offense', 'Opert With Susp DL 2nd Offens', 'PL/Unlaw Use Credit Card', 'Petit Theft', 'Petit Theft $100- $300', 'Pos Cannabis For Consideration', 'Pos Cannabis W/Intent Sel/Del', 'Pos Methylenedioxymethcath W/I/D/S', 'Poss 3,4 MDMA (Ecstasy)', 'Poss Alprazolam W/int Sell/Del', 'Poss Anti-Shoplifting Device', 'Poss Cntrft Contr Sub w/Intent', 'Poss Cocaine/Intent To Del/Sel', 'Poss Contr Subst W/o Prescript', 'Poss Counterfeit Payment Inst', 'Poss Drugs W/O A Prescription', 'Poss F/Arm Delinq', 'Poss Firearm W/Altered ID#', 'Poss Meth/Diox/Meth/Amp (MDMA)', 'Poss Of 1,4-Butanediol', 'Poss Of Controlled Substance', 'Poss Of RX Without RX', 'Poss Oxycodone W/Int/Sell/Del', 'Poss Pyrrolidinobutiophenone', 'Poss Pyrrolidinovalerophenone', 'Poss Pyrrolidinovalerophenone W/I/D/S', 'Poss Similitude of Drivers Lic', 'Poss Tetrahydrocannabinols', 'Poss Trifluoromethylphenylpipe', 'Poss Unlaw Issue Driver Licenc', 'Poss Unlaw Issue Id', 'Poss Wep Conv Felon', 'Poss of Cocaine W/I/D/S 1000FT Park', 'Poss of Firearm by Convic Felo', 'Poss of Methylethcathinone', 'Poss of Vessel w/Altered ID NO', 'Poss/Sell/Del Cocaine 1000FT Sch', 'Poss/Sell/Del/Man Amobarbital', 'Poss/Sell/Deliver Clonazepam', 'Poss/pur/sell/deliver Cocaine', 'Poss3,4 Methylenedioxymethcath', 'Posses/Disply Susp/Revk/Frd DL', 'Possess Cannabis 1000FTSch', 'Possess Cannabis/20 Grams Or Less', 'Possess Controlled Substance', 'Possess Countrfeit Credit Card', 'Possess Drug Paraphernalia', 'Possess Mot Veh W/Alt Vin #', 'Possess Tobacco Product Under 18', 'Possess Weapon On School Prop', 'Possess w/I/Utter Forged Bills', 'Possess/Use Weapon 1 Deg Felon', 'Possession Burglary Tools', 'Possession Child Pornography', 'Possession Firearm School Prop', 'Possession Of 3,4Methylenediox', 'Possession Of Alprazolam', 'Possession Of Amphetamine', 'Possession Of Anabolic Steroid', 'Possession Of Buprenorphine', 'Possession Of Carisoprodol', 'Possession Of Clonazepam', 'Possession Of Cocaine', 'Possession Of Diazepam', 'Possession Of Fentanyl', 'Possession Of Heroin', 'Possession Of Lorazepam', 'Possession Of Methamphetamine', 'Possession Of Paraphernalia', 'Possession Of Phentermine', 'Possession of Alcohol Under 21', 'Possession of Benzylpiperazine', 'Possession of Butylone', 'Possession of Cannabis', 'Possession of Cocaine', 'Possession of Codeine', 'Possession of Ethylone', 'Possession of Hydrocodone', 'Possession of Hydromorphone', 'Possession of LSD', 'Possession of Methadone', 'Possession of Morphine', 'Possession of Oxycodone', 'Possession of XLR11', 'Present Proof of Invalid Insur', 'Principal In The First Degree', 'Prostitution', 'Prostitution/Lewd Act Assignation', 'Prostitution/Lewdness/Assign', 'Prowling/Loitering', 'Purchase Cannabis', 'Purchase Of Cocaine', 'Purchase/P/W/Int Cannabis', 'Purchasing Of Alprazolam', 'Reckless Driving', 'Refuse Submit Blood/Breath Test', 'Refuse to Supply DNA Sample', 'Resist Officer w/Violence', 'Resist/Obstruct W/O Violence', 'Restraining Order Dating Viol', 'Retail Theft $300 1st Offense', 'Retail Theft $300 2nd Offense', 'Ride Tri-Rail Without Paying', 'Robbery / No Weapon', 'Robbery / Weapon', 'Robbery Sudd Snatch No Weapon', 'Robbery W/Deadly Weapon', 'Robbery W/Firearm', 'Sale/Del Cannabis At/Near Scho', 'Sale/Del Counterfeit Cont Subs', 'Sel Etc/Pos/w/Int Contrft Schd', 'Sel/Pur/Mfr/Del Control Substa', 'Sell Cannabis', 'Sell Conterfeit Cont Substance', 'Sell or Offer for Sale Counterfeit Goods', 'Sell/Man/Del Pos/w/int Heroin', 'Sex Batt Faml/Cust Vict 12-17Y', 'Sex Battery Deft 18+/Vict 11-', 'Sex Offender Fail Comply W/Law', 'Sexual Battery / Vict 12 Yrs +', 'Sexual Performance by a Child', 'Shoot In Occupied Dwell', 'Shoot Into Vehicle', 'Simulation of Legal Process', 'Solic to Commit Battery', 'Solicit Deliver Cocaine', 'Solicit Purchase Cocaine', 'Solicit To Deliver Cocaine', 'Solicitation On Felony 3 Deg', 'Soliciting For Prostitution', 'Sound Articles Over 100', 'Stalking', 'Stalking (Aggravated)', 'Strong Armed  Robbery', 'Structuring Transactions', 'Susp Drivers Lic 1st Offense', 'Tamper With Victim', 'Tamper With Witness', 'Tamper With Witness/Victim/CI', 'Tampering With Physical Evidence', 'Tampering with a Victim', 'Theft', 'Theft/To Deprive', 'Threat Public Servant', 'Throw Deadly Missile Into Veh', 'Throw In Occupied Dwell', 'Throw Missile Into Pub/Priv Dw', 'Traff In Cocaine <400g>150 Kil', 'Traffic Counterfeit Cred Cards', 'Traffick Amphetamine 28g><200g', 'Traffick Hydrocodone   4g><14g', 'Traffick Oxycodone     4g><14g', 'Trans/Harm/Material to a Minor', 'Trespass On School Grounds', 'Trespass Other Struct/Conve', 'Trespass Private Property', 'Trespass Property w/Dang Weap', 'Trespass Struct/Convey Occupy', 'Trespass Struct/Conveyance', 'Trespass Structure w/Dang Weap', 'Trespass Structure/Conveyance', 'Trespassing/Construction Site', 'Tresspass Struct/Conveyance', 'Tresspass in Structure or Conveyance', 'Unauth C/P/S Sounds>1000/Audio', 'Unauth Poss ID Card or DL', 'Unauthorized Interf w/Railroad', 'Unemployment Compensatn Fraud', 'Unl/Disturb Education/Instui', 'Unlaw Lic Use/Disply Of Others', 'Unlaw LicTag/Sticker Attach', 'Unlaw Use False Name/Identity', 'Unlawful Conveyance of Fuel', 'Unlawful Use Of Police Badges', 'Unlicensed Telemarketing', 'Use Computer for Child Exploit', 'Use Of 2 Way Device To Fac Fel', 'Use Scanning Device to Defraud', 'Use of Anti-Shoplifting Device', 'Uttering Forged Bills', 'Uttering Forged Credit Card', 'Uttering Worthless Check +$150', 'Uttering a Forged Instrument', 'Video Voyeur-<24Y on Child >16', 'Viol Injunct Domestic Violence', 'Viol Injunction Protect Dom Vi', 'Viol Pretrial Release Dom Viol', 'Viol Prot Injunc Repeat Viol', 'Violation License Restrictions', 'Violation Of Boater Safety Id', 'Violation of Injunction Order/Stalking/Cyberstalking', 'Voyeurism', 'arrest case no charge', 'none']\n",
            "['is_recid', 'sex']\n"
          ]
        }
      ]
    },
    {
      "cell_type": "code",
      "source": [
        "x_vals = df2[features].to_numpy()\n",
        "y_vals = df2[targets].to_numpy()\n",
        "\n",
        "#print(len(x_vals))\n",
        "#print(len(y_vals))"
      ],
      "metadata": {
        "id": "UuOXyI9I4esR"
      },
      "execution_count": null,
      "outputs": []
    },
    {
      "cell_type": "code",
      "source": [
        "x = torch.tensor(x_vals)\n",
        "y = torch.tensor(y_vals)"
      ],
      "metadata": {
        "id": "ptmSgEUQoKOt"
      },
      "execution_count": null,
      "outputs": []
    },
    {
      "cell_type": "code",
      "source": [
        "x = x.to(torch.float32)\n",
        "y = y.to(torch.float32)"
      ],
      "metadata": {
        "id": "aHo5ytaTRBNu"
      },
      "execution_count": null,
      "outputs": []
    },
    {
      "cell_type": "code",
      "source": [
        "#print(len(x))\n",
        "#print(len(y))"
      ],
      "metadata": {
        "id": "Ly8o-0WpDOSf"
      },
      "execution_count": null,
      "outputs": []
    },
    {
      "cell_type": "code",
      "source": [
        "in_dim = len(x[0])\n",
        "#print(in_dim)"
      ],
      "metadata": {
        "id": "MgqFOttLDV03"
      },
      "execution_count": null,
      "outputs": []
    },
    {
      "cell_type": "code",
      "source": [
        "x_train, x_non_test, y_train, y_non_test = train_test_split(x, y, test_size = 0.2, shuffle = True, random_state=42)\n",
        "x_val, x_test, y_val, y_test = train_test_split(x_non_test, y_non_test, test_size=0.5, shuffle = True, random_state=42)\n",
        "#print(len(x_train), len(x_val), len(x_test), len(y_train), len(y_val), len(y_test))"
      ],
      "metadata": {
        "id": "ARuj241rNwiz"
      },
      "execution_count": null,
      "outputs": []
    },
    {
      "cell_type": "code",
      "source": [
        "y_train_r = y_train[:, 0]\n",
        "y_train_s = y_train[:, 1]\n",
        "\n",
        "y_val_r = y_val[:, 0]\n",
        "y_val_s = y_val[:, 1]\n",
        "\n",
        "y_test_r = y_test[:, 0]\n",
        "y_test_s = y_test[:, 1]\n",
        "\n",
        "#print(len(y_train_r))\n",
        "#print(len(y_train_s))\n",
        "\n",
        "#print(len(y_val_r))\n",
        "#print(len(y_val_s))\n",
        "\n",
        "#print(len(y_test_r))\n",
        "#print(len(y_test_s))"
      ],
      "metadata": {
        "id": "Gcd6z0IvOLCQ"
      },
      "execution_count": null,
      "outputs": []
    },
    {
      "cell_type": "markdown",
      "source": [
        "### Feataure choics\n",
        "\n",
        "The following features were chosen:\n",
        "\n",
        "\n",
        "*   age\n",
        "*   sex\n",
        "*   priors_count\n",
        "*   c_jail_in\n",
        "*   c_jail_out\n",
        "*   c_charge_desc\n",
        "*   c_charge_degree\n",
        "\n",
        "\n",
        "Age, sex and number of priors were chosen as they have been determined to be the most predictive features. The features c_jail_in and c_jail_out were combined to create a new feature: c_jail_time, where c_jail_time = c_jail_out - c_jail_in. This feature shows the amount of time spent by the person in jail, in days. c_charge_desc shows the description of the crime committed - this feature is one-hot encoded before being run through the model. Finally, c_charge_degree gives the degree of the crime (felony or misdemeanor). As this feature is a binary variable, it was converted to values of 0’s and 1’s. \n",
        "\n",
        "This set of features seems to result in better performance when compared to the model in part 1. \n"
      ],
      "metadata": {
        "id": "YvLAYXgbqaJs"
      }
    },
    {
      "cell_type": "markdown",
      "source": [
        "### Creating mini-batches for training"
      ],
      "metadata": {
        "id": "EFZe_ZtDriZB"
      }
    },
    {
      "cell_type": "code",
      "source": [
        "clf = OneClassSVM(gamma='auto').fit(x_train)"
      ],
      "metadata": {
        "id": "-pb_dLiVro8S"
      },
      "execution_count": null,
      "outputs": []
    },
    {
      "cell_type": "code",
      "source": [
        "scores = (clf.score_samples(x_train))"
      ],
      "metadata": {
        "id": "ok9ApJXCtFb7"
      },
      "execution_count": null,
      "outputs": []
    },
    {
      "cell_type": "code",
      "source": [
        "print(np.max(scores), np.min(scores))"
      ],
      "metadata": {
        "colab": {
          "base_uri": "https://localhost:8080/"
        },
        "id": "QWuoOcTdtehc",
        "outputId": "7b544274-ee45-4d0a-f17b-3ef6b6cdb48f"
      },
      "execution_count": null,
      "outputs": [
        {
          "output_type": "stream",
          "name": "stdout",
          "text": [
            "1010.559839198784 1.0\n"
          ]
        }
      ]
    },
    {
      "cell_type": "code",
      "source": [
        "print(scores.shape)"
      ],
      "metadata": {
        "colab": {
          "base_uri": "https://localhost:8080/"
        },
        "id": "GCv9WgrC02vv",
        "outputId": "25e40ff8-58b7-48b8-9841-abab52091819"
      },
      "execution_count": null,
      "outputs": [
        {
          "output_type": "stream",
          "name": "stdout",
          "text": [
            "(5771,)\n"
          ]
        }
      ]
    },
    {
      "cell_type": "code",
      "source": [
        "batch_size = 512\n",
        "num_batches = int(len(x_train)/batch_size) + 1"
      ],
      "metadata": {
        "id": "501N2Ck-tqSP"
      },
      "execution_count": null,
      "outputs": []
    },
    {
      "cell_type": "code",
      "source": [
        "print(x_train.shape)"
      ],
      "metadata": {
        "colab": {
          "base_uri": "https://localhost:8080/"
        },
        "id": "BKrbLb1huVuG",
        "outputId": "84d62597-b6d0-4b8f-e5ed-17c1cb92617b"
      },
      "execution_count": null,
      "outputs": [
        {
          "output_type": "stream",
          "name": "stdout",
          "text": [
            "torch.Size([5771, 442])\n"
          ]
        }
      ]
    },
    {
      "cell_type": "code",
      "source": [
        "print(num_batches)"
      ],
      "metadata": {
        "colab": {
          "base_uri": "https://localhost:8080/"
        },
        "id": "AIc7-hKDuI7R",
        "outputId": "7cef21c3-78db-4cb5-f007-789010602020"
      },
      "execution_count": null,
      "outputs": [
        {
          "output_type": "stream",
          "name": "stdout",
          "text": [
            "12\n"
          ]
        }
      ]
    },
    {
      "cell_type": "code",
      "source": [
        "def get_minibatch(x_train, y_train_r, y_train_s, taken, scores, batch_size):\n",
        "  x_minibatch = []\n",
        "  y_r_minibatch = []\n",
        "  y_s_minibatch = []\n",
        "\n",
        "  for i in (range(batch_size)):\n",
        "\n",
        "    if (np.where(taken==0)[0].shape)[0] == 0: break\n",
        "\n",
        "    x_train_temp = x_train[np.where(taken == 0)] \n",
        "    y_train_r_temp = y_train_r[np.where(taken == 0)] \n",
        "    y_train_s_temp = y_train_s[np.where(taken == 0)] \n",
        "    scores_temp = scores[np.where(taken == 0)] \n",
        "\n",
        "    if i % 2 == 0:\n",
        "      ind = np.argmin(scores_temp)\n",
        "\n",
        "    else: \n",
        "      ind = np.argmax(scores_temp)\n",
        "\n",
        "    x_minibatch.append(x_train[ind])\n",
        "    y_r_minibatch.append(y_train_r[ind])\n",
        "    y_s_minibatch.append(y_train_s[ind])\n",
        "\n",
        "    t_ind = np.where((scores == scores_temp[ind]) & (taken == 0))[0][0]\n",
        "\n",
        "    #print(t_ind)\n",
        "\n",
        "    indices.append(t_ind)\n",
        "\n",
        "    taken[t_ind] = 1\n",
        "\n",
        "  return torch.stack(x_minibatch), torch.stack(y_r_minibatch), torch.stack(y_s_minibatch), taken"
      ],
      "metadata": {
        "id": "Tzto7b-2vKEY"
      },
      "execution_count": null,
      "outputs": []
    },
    {
      "cell_type": "code",
      "source": [
        "taken = np.zeros(scores.shape)\n",
        "indices = []\n",
        "\n",
        "x_train_batches = []\n",
        "y_train_r_batches = []\n",
        "y_train_s_batches = []\n",
        "\n",
        "for i in tqdm(range(num_batches)):\n",
        "  #print(i)\n",
        "  x_mb, y_r_mb, y_s_mb, taken = get_minibatch(x_train, y_train_r, y_train_s, taken, scores, batch_size)\n",
        "\n",
        "  x_train_batches.append(x_mb)\n",
        "  y_train_r_batches.append(y_r_mb)\n",
        "  y_train_s_batches.append(y_s_mb)\n",
        "\n",
        "  #print(np.where(taken==0)[0].shape, np.where(taken==1)[0].shape)\n",
        "  #print(len(indices), (i+1)*512)\n",
        "\n",
        "  #break"
      ],
      "metadata": {
        "colab": {
          "base_uri": "https://localhost:8080/",
          "height": 49,
          "referenced_widgets": [
            "7076ae2e3ae64fd7b8d7cf17d9ccf444",
            "fd914af7e43544c1b705705d2c81af13",
            "39559cd168a34f11863cc70bb9c1f227",
            "8cfc2e07a1db4a87b16126dc474e20cb",
            "f82d040c7cbc452ab350892583c2a054",
            "af480592c6584c30af0112a30cf50ae2",
            "33f6117e74484a6ba636e5802ef401a6",
            "3ae4c56cfd1d4e04abb0b51482cb1285",
            "43de3e5ea7644077be66f4215d72b602",
            "c46237be7646434b834b8401d721c6e2",
            "091f884e343d4173b2343c7230fae2c7"
          ]
        },
        "id": "ARcWaN3u2UXi",
        "outputId": "aaf3377c-8a28-4a7a-f452-fbb38c1f8614"
      },
      "execution_count": null,
      "outputs": [
        {
          "output_type": "display_data",
          "data": {
            "text/plain": [
              "  0%|          | 0/12 [00:00<?, ?it/s]"
            ],
            "application/vnd.jupyter.widget-view+json": {
              "version_major": 2,
              "version_minor": 0,
              "model_id": "7076ae2e3ae64fd7b8d7cf17d9ccf444"
            }
          },
          "metadata": {}
        }
      ]
    },
    {
      "cell_type": "markdown",
      "source": [
        "### Create model and training"
      ],
      "metadata": {
        "id": "76DkW-t5C0aQ"
      }
    },
    {
      "cell_type": "code",
      "source": [
        "class WW_predictor(nn.Module):\n",
        "  def __init__(self):\n",
        "    super().__init__()\n",
        "    self.l1 = nn.Linear(in_dim, 256)\n",
        "    self.l2 = nn.Linear(256, 128)\n",
        "\n",
        "    self.x = nn.Linear(128, 64)\n",
        "    \n",
        "    self.lout_r = nn.Linear(64, 1)\n",
        "    self.lout_s = nn.Linear(64, 1)\n",
        "\n",
        "    nn.init.xavier_uniform_(self.l1.weight)\n",
        "    nn.init.xavier_uniform_(self.l2.weight)\n",
        "    nn.init.xavier_uniform_(self.x.weight)\n",
        "    nn.init.xavier_uniform_(self.lout_r.weight)\n",
        "    nn.init.xavier_uniform_(self.lout_s.weight)\n",
        "\n",
        "\n",
        "  def forward(self, in_):\n",
        "    y = self.l1(in_)\n",
        "    y = self.l2(y)\n",
        "\n",
        "    y = self.x(y)\n",
        "\n",
        "    r_pred = torch.sigmoid(self.lout_r(y))\n",
        "    s_pred = torch.sigmoid(self.lout_s(y))\n",
        "\n",
        "    return r_pred, s_pred"
      ],
      "metadata": {
        "id": "FYrrCNUmC5jQ"
      },
      "execution_count": null,
      "outputs": []
    },
    {
      "cell_type": "code",
      "source": [
        "WWmodel = WW_predictor()\n",
        "WWmodel"
      ],
      "metadata": {
        "colab": {
          "base_uri": "https://localhost:8080/"
        },
        "outputId": "4d4a5e54-3f92-4368-df19-d03b0cd5b975",
        "id": "klBQpKZ0DDfM"
      },
      "execution_count": null,
      "outputs": [
        {
          "output_type": "execute_result",
          "data": {
            "text/plain": [
              "WW_predictor(\n",
              "  (l1): Linear(in_features=442, out_features=256, bias=True)\n",
              "  (l2): Linear(in_features=256, out_features=128, bias=True)\n",
              "  (x): Linear(in_features=128, out_features=64, bias=True)\n",
              "  (lout_r): Linear(in_features=64, out_features=1, bias=True)\n",
              "  (lout_s): Linear(in_features=64, out_features=1, bias=True)\n",
              ")"
            ]
          },
          "metadata": {},
          "execution_count": 35
        }
      ]
    },
    {
      "cell_type": "code",
      "source": [
        "loss_fn = nn.BCELoss()\n",
        "optimizer = torch.optim.Adam(WWmodel.parameters(), lr=0.001)"
      ],
      "metadata": {
        "id": "eGdI8iK4DDfN"
      },
      "execution_count": null,
      "outputs": []
    },
    {
      "cell_type": "code",
      "source": [
        "def acc_fn(y_true, y_pred):\n",
        "  correct = torch.eq(y_true, y_pred).sum().item()\n",
        "  acc = (correct / len(y_pred)) * 100\n",
        "  return acc"
      ],
      "metadata": {
        "id": "dchOUyU4DDfN"
      },
      "execution_count": null,
      "outputs": []
    },
    {
      "cell_type": "code",
      "source": [
        "path = \"model.pt\""
      ],
      "metadata": {
        "id": "NJza4_9umH_X"
      },
      "execution_count": null,
      "outputs": []
    },
    {
      "cell_type": "code",
      "source": [
        "epochs = 1000\n",
        "\n",
        "val_acc_list = []\n",
        "val_loss_list = []\n",
        "\n",
        "for epoch in tqdm(range(int(epochs)), desc='epochs'):\n",
        "  for i in range(num_batches):\n",
        "    x_train_batch = x_train_batches[i]\n",
        "    y_train_r_batch = y_train_r_batches[i]\n",
        "    y_train_s_batch = y_train_s_batches[i]\n",
        "\n",
        "    if len(x_train_batch) == 0: break\n",
        "\n",
        "    WWmodel.train()\n",
        "\n",
        "    r_logits, s_logits = WWmodel(x_train_batch)\n",
        "\n",
        "    r_logits = r_logits.squeeze()\n",
        "    s_logits = s_logits.squeeze()\n",
        "    \n",
        "    r_pred = torch.round(r_logits)\n",
        "    s_pred = torch.round(s_logits)\n",
        "\n",
        "    r_loss = loss_fn(r_logits, y_train_r_batch)\n",
        "    s_loss = loss_fn(s_logits, y_train_s_batch)\n",
        "\n",
        "    loss = r_loss + (1/s_loss) # divide by s_loss will punish the model for predicting sex correctly (1/small loss value = a large loss value)\n",
        "\n",
        "\n",
        "\n",
        "    acc = acc_fn(y_train_r_batch, r_pred)\n",
        "\n",
        "    optimizer.zero_grad()\n",
        "    loss.backward()\n",
        "    optimizer.step()\n",
        "\n",
        "  WWmodel.eval()\n",
        "  with torch.inference_mode():\n",
        "    r_val_logits, s_val_logits = WWmodel(x_val)\n",
        "\n",
        "    r_val_logits = r_val_logits.squeeze()\n",
        "    s_val_logits = s_val_logits.squeeze()\n",
        "\n",
        "    r_val_pred = torch.round(r_val_logits)\n",
        "    s_val_pred = torch.round(s_val_logits)\n",
        "    \n",
        "    r_val_loss = loss_fn(r_val_logits, y_val_r)\n",
        "    s_val_loss = loss_fn(s_val_logits, y_val_s)\n",
        "\n",
        "    val_loss = r_val_loss + (1/s_val_loss)\n",
        "\n",
        "    val_acc = acc_fn(y_val_r, r_val_pred)\n",
        "\n",
        "    val_acc_list.append(val_acc)\n",
        "    val_loss_list.append(val_loss)\n",
        "\n",
        "  if len(val_loss_list) >= 3 and (val_loss_list[-3] <= val_loss_list[-2] <= val_loss_list[-1]):\n",
        "    print(f\"\\nEARLY STOPPING\\n\\tEpoch: {epoch} | Loss: {loss:.5f}, Accuracy: {acc:.2f}% | Validation loss: {val_loss:.5f}, Validation acc: {val_acc:.2f}%\")\n",
        "    print(val_loss_list)\n",
        "    print(val_acc_list)\n",
        "    break\n",
        "\n",
        "\n",
        "  if epoch%500 == 0 or epoch == epochs-1:\n",
        "    print(f\"\\nEpoch: {epoch} | Loss: {loss:.5f}, Accuracy: {acc:.2f}% | Validation loss: {val_loss:.5f}, Validation acc: {val_acc:.2f}%\")"
      ],
      "metadata": {
        "colab": {
          "base_uri": "https://localhost:8080/",
          "height": 194,
          "referenced_widgets": [
            "db36bde96a414dfcb509576e121f753a",
            "b28a2f479b2446719d55b3650d91c82f",
            "22f2817f315d41af8c03aad3aad963d1",
            "5d0bad691979424e97a94c03cc0ab888",
            "905ec586147e4039a90d2e98510ce47f",
            "db8bbf0713d04564b1d4158248119235",
            "b95e655a02f741748115b70222119105",
            "0022fa4b916744778d2a8417eaa642a1",
            "394903113be3432da6e6eec579583308",
            "d344aa514bc948c698194b0f7a6b6fe2",
            "591a50916cab4e2082a77cee260dd0de"
          ]
        },
        "outputId": "91fe24d0-4fd4-496a-bb44-b88f21423d75",
        "id": "XCS6jYTBDDfN"
      },
      "execution_count": null,
      "outputs": [
        {
          "output_type": "display_data",
          "data": {
            "text/plain": [
              "epochs:   0%|          | 0/1000 [00:00<?, ?it/s]"
            ],
            "application/vnd.jupyter.widget-view+json": {
              "version_major": 2,
              "version_minor": 0,
              "model_id": "db36bde96a414dfcb509576e121f753a"
            }
          },
          "metadata": {}
        },
        {
          "output_type": "stream",
          "name": "stdout",
          "text": [
            "\n",
            "Epoch: 0 | Loss: 3.69833, Accuracy: 58.27% | Validation loss: 4.78393, Validation acc: 64.77%\n",
            "\n",
            "EARLY STOPPING\n",
            "\tEpoch: 13 | Loss: 0.65745, Accuracy: 63.31% | Validation loss: 0.63555, Validation acc: 67.68%\n",
            "[tensor(4.7839), tensor(1.2044), tensor(0.7063), tensor(0.9004), tensor(0.7178), tensor(0.6575), tensor(0.6535), tensor(0.6478), tensor(0.6406), tensor(0.6367), tensor(0.6355), tensor(0.6350), tensor(0.6350), tensor(0.6355)]\n",
            "[64.77115117891817, 44.79889042995839, 65.0485436893204, 44.79889042995839, 59.77808599167822, 67.40638002773926, 67.82246879334258, 66.99029126213593, 67.96116504854369, 67.68377253814147, 67.68377253814147, 67.54507628294036, 67.26768377253815, 67.68377253814147]\n"
          ]
        }
      ]
    },
    {
      "cell_type": "markdown",
      "source": [
        "### Tuning playbook choices:\n",
        "\n",
        "The following strategies from the fine-tuning handbook were chosen: \n",
        "Early stopping\n",
        "Used adam instead of sgd\n",
        "Batches \n",
        "\n",
        "The following strategies were considered but not chosen:\n",
        "Initial model architecture\n",
        "Incremental tuning\n",
        "\n",
        "Initial model architecture was not chosen as in this situation, the only way to change the model architecture is to change the number of hidden layers. However, since adding hidden layers will increase computational time and effort with no guarantee in improved model performance, this strategy was not chosen. \n",
        "\n",
        "Incremental tuning was also considered as a potential strategy, however, this option would require  the model would need to be retrained with new hyperparameter values several times. As this can be very time and computationally intensive, this strategy was not chosen. \n"
      ],
      "metadata": {
        "id": "tuuR9r-7qgXV"
      }
    },
    {
      "cell_type": "markdown",
      "source": [
        "### Predicting"
      ],
      "metadata": {
        "id": "CDypBqUMC2LI"
      }
    },
    {
      "cell_type": "code",
      "source": [
        "activation = {}\n",
        "\n",
        "def get_activation(name):\n",
        "    def hook(model, input, output):\n",
        "        activation[name] = output.detach()\n",
        "    return hook"
      ],
      "metadata": {
        "id": "2ZiNGpy6Lpc2"
      },
      "execution_count": null,
      "outputs": []
    },
    {
      "cell_type": "code",
      "source": [
        "WWmodel.x.register_forward_hook(get_activation('x'))"
      ],
      "metadata": {
        "colab": {
          "base_uri": "https://localhost:8080/"
        },
        "id": "rmR8UZZmLwPp",
        "outputId": "d9ab3112-a2f8-4b39-85dc-ccdee8d00471"
      },
      "execution_count": null,
      "outputs": [
        {
          "output_type": "execute_result",
          "data": {
            "text/plain": [
              "<torch.utils.hooks.RemovableHandle at 0x7f1cb4231640>"
            ]
          },
          "metadata": {},
          "execution_count": 41
        }
      ]
    },
    {
      "cell_type": "code",
      "source": [
        "WWmodel.eval()\n",
        "\n",
        "r_pred_logits, s_pred_logits = WWmodel(x_test)\n",
        "\n",
        "FEATS = []\n",
        "FEATS.append(activation['x'].cpu().numpy())\n",
        "\n",
        "r_pred = torch.round(r_pred_logits.squeeze())\n",
        "s_pred = torch.round(s_pred_logits.squeeze())\n",
        "\n",
        "print(\"acuracy of test set: \", acc_fn(y_test_r, r_pred))"
      ],
      "metadata": {
        "colab": {
          "base_uri": "https://localhost:8080/"
        },
        "id": "USRo2bf3nmUG",
        "outputId": "6839e86d-9b8c-4ff1-cc11-32267821e93d"
      },
      "execution_count": null,
      "outputs": [
        {
          "output_type": "stream",
          "name": "stdout",
          "text": [
            "acuracy of test set:  63.850415512465375\n"
          ]
        }
      ]
    },
    {
      "cell_type": "code",
      "source": [
        "r_pred = r_pred.cpu().detach().numpy()\n",
        "s_pred = s_pred.cpu().detach().numpy()"
      ],
      "metadata": {
        "id": "hp5UVqopnmUH"
      },
      "execution_count": null,
      "outputs": []
    },
    {
      "cell_type": "code",
      "source": [
        "r_pred_logits = r_pred_logits.cpu().detach().numpy()\n",
        "s_pred_logits = s_pred_logits.cpu().detach().numpy()"
      ],
      "metadata": {
        "id": "P-7K7Ps1plv5"
      },
      "execution_count": null,
      "outputs": []
    },
    {
      "cell_type": "markdown",
      "source": [
        "### Proving mode collapse"
      ],
      "metadata": {
        "id": "3u5y9SwvUCHg"
      }
    },
    {
      "cell_type": "code",
      "source": [
        "plt.imshow(FEATS[0].transpose()) # rotated for ease of viewing\n",
        "plt.colorbar(orientation='horizontal')\n",
        "#plt.clim(-10, 10)\n",
        "plt.title(\"visualization of intermediate outputs of layer x'\")\n",
        "plt.show()"
      ],
      "metadata": {
        "colab": {
          "base_uri": "https://localhost:8080/",
          "height": 207
        },
        "id": "12HlqqGsXmlN",
        "outputId": "57c7fd9f-68eb-4181-84c4-57a1407f7cd3"
      },
      "execution_count": null,
      "outputs": [
        {
          "output_type": "display_data",
          "data": {
            "text/plain": [
              "<Figure size 640x480 with 2 Axes>"
            ],
            "image/png": "[encoded data removed]"
          },
          "metadata": {}
        }
      ]
    },
    {
      "cell_type": "markdown",
      "source": [
        "In the plot above, each intermediate output for the layer x' for each piece of testing data is shown as a a colored vertical line (the intermediate output for the first input is a vertical line at 0, the intermediate output for the last output is a vertical line at 722). \n",
        "\n",
        "Based on the plot above, it can be seen that the majority of the intermediate outputs for layer x' are approximately zero vectors, and there is very little variation across the different inputs (if I were to draw a horizontal line across the plot, there is almost no variation in color along this line). \n",
        "\n",
        "This means that for each of the 722 inputs, the x' layer outputs approximately the same vector each time. This means that regardless of the input to the model, the outputs for the model will be approximately the same each time, thus indicating mode collapse.  "
      ],
      "metadata": {
        "id": "ajikqsHOewmK"
      }
    },
    {
      "cell_type": "markdown",
      "source": [
        "# Part 3\n",
        "\n",
        "***In the context of recidivism prediction for COMPAS, present an argument in favour of aiming for demographic parity.***\n",
        "\n",
        "It prevents people from being wrongly convicted (false-positive) just because they belong to a certain demographic. Conversely, it prevents freeing actually dangerous people just because they belong to a certain demographic. \n",
        "\n",
        "***In the context of recidivism prediction for COMPAS, present an argument in favour of aiming for false-positive parity.***\n",
        "\n",
        "Aiming for false-positive parity ensures that people across every demographic have equal probability of being falsely classified as future offenders. This has several benefits, but mainly this ensures fairness across demographics and equal treatment, such that no demographic is unjustly penalized simply due to their racial profile. In the long term, this can mitigate the unevenly distributed incarceration rates in the US for different ethnicities, contributing to reducing systematic biases in the justice system.\n",
        "\n",
        "***In the context of recidivism prediction for COMPAS, present an argument in favour of aiming for calibration.***\n",
        "\n",
        "Calibration ensures that the model does not over-forecast or under-forecast. In other words, it ensures that the probabilities computed by the model is as close to ideal as possible - thus ensuring that the outputs are not biased (the predictions and the observed relative frequency of occurrences match). \n",
        "\n",
        "***In the context of recidivism prediction for COMPAS, consider Sharad Goel’s concepts of aggregate social welfare, and aggregate social welfare as computed for each demographic separately. Make one argument in favour of using those concepts. Make two arguments against those thinking that those concepts should guide the design of systems; at least one of those arguments should be specific to the aggregate social welfare as computed for each demographic separately.***\n",
        "\n",
        "Using such concepts prioritizes the social welfare of each individual demographic. The social welfare for each individual demographic will accumulate, and will help improve the overall social welfare of the population. This tries to ensure that no demographic is worse off than any other demographic, and that the benefit to each demographic is maximized without harming other demographics. \n",
        "\n",
        "However, by trying to maximize the social welfare to each individual demographic, the aggregate social welfare to the entire population may in fact not be maximized. If a certain demographic does indeed have a higher percentage of dangerous people, for the welfare of the entire population, it is more important to correctly convict these people instead of trying to maximize social welfare for their demographic. For example, if a certain demographic has a higher percentage of people who instigate shootings, it is in the best interest of the entire population to ensure that those suspected to instigate shootings are detained. Even if it is wrongfully so, the harm done by a shooting severely outweighs the harm done by a few wrong detainments. \n",
        "\n",
        "Additionally, such measures could also encourage more false negatives which can overall be more dangerous. The model will wrongly classify people to not be a danger to the public, which means that people who might actually be dangerous will not be flagged by the model, thus giving these people more freedom to potentially commit more crimes. Overall, the aggregate welfare to society will once again not be maximized. \n",
        "\n",
        "On the other hand, using demographic specific measures for social welfare could potentially lead to maximizing overall social benefits across all demographics, as the social welfare for each individual demographic accumulates. This approach not only ensures reducing recidivism rates for each demographic, but it also ensures that equitable outcomes acorss all demographics, leading to a more just and efficient legal system and society.\n",
        "\n",
        "However, it is often difficult to measure or quantify what is considered social welfare. In general, determining the cprrect weights and outcomes is a complex task and often depends on subjective judgment that differs from person to person, especially across different socio-economic, political, and religious spectrums. On a similar note, trade-offs involved between competing social outcomes are equally difficult to measure. As a result, quantification of social welfare can lead to suboptimal results.\n",
        "\n",
        "Enforcing demographic specific outcomes can lead to unintended consequences. Such measures could encourage more false negatives for certain demographics that can lead to more dangerous outcomes. It can also enforce existing biases or create new ones, which may falsely create an false illusion of betterment at the detriment of a certain demographic.\n",
        "\n",
        "***There are many contexts in which prediction systems are currently being used. Examples include credit scores; university admissions; insurance rate offers; early-warning systems for deteriorating patients in hospital. Pick one field (not necessarily one of the ones I listed) where you think the ethical considerations are different from the ethical considerations for COMPAS. Argue that the ethical considerations for the two cases are different, and connect your argument to observational and causal measures of fairness that we discussed in class.***\n",
        "\n",
        "In university admissions, the ethical considerations are significantly different from COMPAS. \n",
        "\n",
        "The aim of COMPAS is to ensure that dangerous people are kept under control and do not harm others. False-positives could ruin a person’s life. If a person is wrongly flagged, they will be punished for no reason, and security efforts will also be wasted on a person who is of no danger to the public. Meanwhile, false-negatives could also be disastrous as it would mean that dangerous people will be allowed to roam free where they can do as much harm as they wish. \n",
        "\n",
        "On the other hand, university admissions have considerably lower stakes than COMPAS. In this case, false-positives (people admitted who do not deserve it) and false negatives (people rejected when they should have been admitted) do not have disastrous results. People who did not deserve admission will automatically be weeded out within the first year of university if they genuinely do not have the capability to keep up. While those who do deserve admission at a specific university still have the opportunity to receive their education at a different university. Personally, I have never heard of anyone who is rejected from every university they apply to; most people get into their safety school at the very least or are presented opportunities for advancement later on. However, it is also known that many demographics tend to be under-represented in certain fields (for example, not enough women in stem). This will have negative effects on the general population as it would result in such fields not taking needs of under-represented demographics into consideration. For example, if there are too many male medical researchers, not enough research would be done on women, leading to men having better healthcare than women. \n",
        "\n",
        "\n",
        "Essentially, COMPAS needs to ensure that only dangerous people are flagged, regardless of their demographic. However, false negatives could have very serious and very obvious consequences. Meanwhile, university admissions need to ensure that everyone who is qualified gets an opportunity, while also ensuring that there is diversity amongst their students. False predictions (incorrectly admitted or rejected) do not have extremely disastrous results on the large scale. However, not considering demographics during predictions could allow the damage done by previous generations to perpetuate, resulting in serious but not as obvious consequences. \n"
      ],
      "metadata": {
        "id": "k4r_JKJoRhlo"
      }
    }
  ]
}